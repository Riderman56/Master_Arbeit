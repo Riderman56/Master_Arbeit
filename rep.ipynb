{
 "cells": [
  {
   "cell_type": "markdown",
   "metadata": {},
   "source": [
    "# The impact of the Covid-19 crisis on international risk sharing - R codes"
   ]
  },
  {
   "cell_type": "markdown",
   "metadata": {},
   "source": [
    " This Notebook contains all codes necessary to reproduce the tables and figures in the thesis"
   ]
  },
  {
   "cell_type": "markdown",
   "metadata": {},
   "source": [
    "### General Set-up"
   ]
  },
  {
   "cell_type": "code",
   "execution_count": 1,
   "metadata": {},
   "outputs": [],
   "source": [
    "rm(list=ls())\n",
    "options(warn=-1)\n",
    "output='text'\n",
    "# please adjust path to 'MA_rep' on your machine ##user\n",
    "path<-'/'"
   ]
  },
  {
   "cell_type": "code",
   "execution_count": 2,
   "metadata": {},
   "outputs": [
    {
     "name": "stderr",
     "output_type": "stream",
     "text": [
      "Loading required package: carData\n",
      "\n",
      "Loading required package: zoo\n",
      "\n",
      "\n",
      "Attaching package: 'zoo'\n",
      "\n",
      "\n",
      "The following objects are masked from 'package:base':\n",
      "\n",
      "    as.Date, as.Date.numeric\n",
      "\n",
      "\n",
      "\n",
      "Please cite as: \n",
      "\n",
      "\n",
      " Hlavac, Marek (2018). stargazer: Well-Formatted Regression and Summary Statistics Tables.\n",
      "\n",
      " R package version 5.2.2. https://CRAN.R-project.org/package=stargazer \n",
      "\n",
      "\n",
      "Loading required package: MASS\n",
      "\n",
      "Loading required package: strucchange\n",
      "\n",
      "Loading required package: urca\n",
      "\n",
      "Loading required package: xts\n",
      "\n",
      "\n",
      "Attaching package: 'PerformanceAnalytics'\n",
      "\n",
      "\n",
      "The following object is masked from 'package:graphics':\n",
      "\n",
      "    legend\n",
      "\n",
      "\n"
     ]
    },
    {
     "data": {
      "text/plain": [
       "R version 3.6.1 (2019-07-05)\n",
       "Platform: x86_64-w64-mingw32/x64 (64-bit)\n",
       "Running under: Windows 10 x64 (build 19042)\n",
       "\n",
       "Matrix products: default\n",
       "\n",
       "locale:\n",
       "[1] LC_COLLATE=English_Germany.1252  LC_CTYPE=English_Germany.1252   \n",
       "[3] LC_MONETARY=English_Germany.1252 LC_NUMERIC=C                    \n",
       "[5] LC_TIME=English_Germany.1252    \n",
       "\n",
       "attached base packages:\n",
       "[1] stats     graphics  grDevices utils     datasets  methods   base     \n",
       "\n",
       "other attached packages:\n",
       " [1] sessioninfo_1.1.1          PerformanceAnalytics_2.0.4\n",
       " [3] xts_0.12.1                 vars_1.5-3                \n",
       " [5] urca_1.3-0                 strucchange_1.5-2         \n",
       " [7] MASS_7.3-51.6              ggplot2_3.3.0             \n",
       " [9] stargazer_5.2.2            sandwich_3.0-0            \n",
       "[11] broom_0.7.6                lmtest_0.9-38             \n",
       "[13] zoo_1.8-9                  multiwayvcov_1.2.3        \n",
       "[15] car_3.0-10                 carData_3.0-4             \n",
       "[17] readxl_1.3.1              \n",
       "\n",
       "loaded via a namespace (and not attached):\n",
       " [1] Rcpp_1.0.4.6      lattice_0.20-38   tidyr_1.1.3       assertthat_0.2.1 \n",
       " [5] digest_0.6.25     IRdisplay_0.7.0   R6_2.4.1          cellranger_1.1.0 \n",
       " [9] repr_1.1.0        backports_1.2.1   evaluate_0.14     pillar_1.4.3     \n",
       "[13] rlang_0.4.10      curl_4.3          uuid_0.1-4        data.table_1.14.0\n",
       "[17] foreign_0.8-71    munsell_0.5.0     compiler_3.6.1    pkgconfig_2.0.3  \n",
       "[21] base64enc_0.1-3   htmltools_0.4.0   tidyselect_1.1.1  tibble_3.0.1     \n",
       "[25] quadprog_1.5-8    rio_0.5.26        fansi_0.4.1       crayon_1.3.4     \n",
       "[29] dplyr_1.0.5       withr_2.2.0       grid_3.6.1        nlme_3.1-139     \n",
       "[33] jsonlite_1.6.1    gtable_0.3.0      lifecycle_1.0.0   magrittr_1.5     \n",
       "[37] scales_1.1.0      zip_2.1.1         cli_2.0.2         stringi_1.4.6    \n",
       "[41] ellipsis_0.3.0    generics_0.1.0    vctrs_0.3.8       boot_1.3-20      \n",
       "[45] openxlsx_4.2.3    IRkernel_1.1      tools_3.6.1       forcats_0.5.1    \n",
       "[49] glue_1.4.0        purrr_0.3.4       hms_1.0.0         abind_1.4-5      \n",
       "[53] parallel_3.6.1    colorspace_1.4-1  pbdZMQ_0.3-3      haven_2.4.1      "
      ]
     },
     "metadata": {},
     "output_type": "display_data"
    }
   ],
   "source": [
    "# load / install required packages \n",
    "\n",
    "# install.packages(\"readxl\")\n",
    "# install.packages('car')\n",
    "# install.packages('multiwayvcov')\n",
    "# install.packages(\"lmtest\")\n",
    "# install.packages(\"broom\")\n",
    "# install.packages('stargazer')\n",
    "# install.packages('vars')\n",
    "# install.packages(\"PerformanceAnalytics\")\n",
    "# install.packages('sessioninfo')\n",
    "\n",
    "library(readxl)\n",
    "library(car)\n",
    "library(multiwayvcov)\n",
    "library(lmtest)\n",
    "library(broom)\n",
    "library(sandwich)\n",
    "library(stargazer)\n",
    "library(vars)\n",
    "library(PerformanceAnalytics)\n",
    "library(sessioninfo)\n",
    "\n",
    "# get session info\n",
    "\n",
    "sessionInfo()"
   ]
  },
  {
   "cell_type": "code",
   "execution_count": 3,
   "metadata": {},
   "outputs": [],
   "source": [
    "# define helping routines\n",
    "\n",
    "log.diff<-function(vec){ # get log growth rates\n",
    "  vec=log(t(vec))\n",
    "  return(vec[-1]-vec[-length(vec)])\n",
    "}\n",
    "\n",
    "geom<-function(x){ # geometric mean\n",
    "  n=length(x)\n",
    "  return(prod((1+x))^(1/n))-1\n",
    "}\n",
    "\n",
    "to.num<-function(x){ # get any object to numeric format\n",
    "  x=data.frame(x)\n",
    "  h<-matrix(nrow = nrow(x),ncol = ncol(x))\n",
    "  for(i in 1:nrow(x)){\n",
    "    for(j in 1:ncol(x)){\n",
    "      h[i,j]=as.numeric(x[i,j])\n",
    "    }\n",
    "  }\n",
    "  return(h)\n",
    "}\n",
    "\n",
    "year<-function(vec,start=1,sq=1){ # get from quarterly count to years\n",
    "  vec=vec+sq-1\n",
    "  return(vec/4-(vec%%4)/4+start)\n",
    "}\n",
    "\n",
    "E<-function(A,dx,r){ # helping function to calculate permanent component\n",
    "  A=A/(1+r)\n",
    "  return(c(1,-1,0)%*%A%*%solve(diag(3)-A)%*%dx)\n",
    "}\n",
    "\n",
    "to.year<-function(vec){ # aggregates quarterly data on year level\n",
    "  n=length(vec)\n",
    "  stopifnot((n/4)%%1==0) # all quarters for each year have to be in the data\n",
    "  res=c()\n",
    "  for (t in 1:(n/4)) {\n",
    "    res[t]=sum(vec[(4*t-3):(4*t)])\n",
    "  }\n",
    "  return(res)\n",
    "}"
   ]
  },
  {
   "cell_type": "markdown",
   "metadata": {},
   "source": [
    "### read in data - european sample"
   ]
  },
  {
   "cell_type": "code",
   "execution_count": 4,
   "metadata": {},
   "outputs": [],
   "source": [
    "# select sample and weighting\n",
    "\n",
    "wls=0 # 1 implies weighting by GDP ##user\n",
    "sel=c(2,3,7,8,9,10,11,12,14,15,16,18,19) # subset here ##user\n",
    "codes=c('as','au','be','br','cd','cz','dn','fn','fr','ge','gr','it','jp','nl','nw','po','ru','sp','sw','tk','uk','us')[sel]\n",
    "names=c('Australia','Austria','Belgium','Brazil','Canada','Czech Republic','Denmark','Finland','France','Germany','Greece','Italy','Japan','Netherlands','Norway','Portugal','Russian Federation','Spain','Sweden','Turkey','United Kingdom','United States')[sel]\n",
    "obs=length(names)"
   ]
  },
  {
   "cell_type": "code",
   "execution_count": 5,
   "metadata": {},
   "outputs": [
    {
     "name": "stderr",
     "output_type": "stream",
     "text": [
      "New names:\n",
      "* `` -> ...2\n",
      "\n",
      "New names:\n",
      "* `` -> ...2\n",
      "\n",
      "New names:\n",
      "* `` -> ...2\n",
      "\n",
      "New names:\n",
      "* `` -> ...2\n",
      "\n",
      "New names:\n",
      "* `` -> ...2\n",
      "\n",
      "New names:\n",
      "* `` -> ...2\n",
      "\n",
      "New names:\n",
      "* `` -> ...2\n",
      "\n",
      "New names:\n",
      "* `` -> ...2\n",
      "\n",
      "New names:\n",
      "* `` -> ...2\n",
      "\n",
      "New names:\n",
      "* `` -> ...2\n",
      "\n",
      "New names:\n",
      "* `` -> ...2\n",
      "\n",
      "New names:\n",
      "* `` -> ...2\n",
      "\n",
      "New names:\n",
      "* `` -> ...2\n",
      "\n",
      "New names:\n",
      "* `` -> ...2\n",
      "* `` -> ...3\n",
      "* `` -> ...4\n",
      "* `` -> ...5\n",
      "* `` -> ...6\n",
      "* ...\n",
      "\n",
      "New names:\n",
      "* `` -> ...2\n",
      "* `` -> ...3\n",
      "* `` -> ...4\n",
      "* `` -> ...5\n",
      "* `` -> ...6\n",
      "* ...\n",
      "\n",
      "New names:\n",
      "* `` -> ...2\n",
      "* `` -> ...3\n",
      "* `` -> ...4\n",
      "* `` -> ...5\n",
      "* `` -> ...6\n",
      "* ...\n",
      "\n",
      "New names:\n",
      "* `` -> ...2\n",
      "* `` -> ...3\n",
      "* `` -> ...4\n",
      "* `` -> ...5\n",
      "* `` -> ...6\n",
      "* ...\n",
      "\n",
      "New names:\n",
      "* `` -> ...2\n",
      "* `` -> ...3\n",
      "* `` -> ...4\n",
      "* `` -> ...5\n",
      "* `` -> ...6\n",
      "* ...\n",
      "\n",
      "New names:\n",
      "* `` -> ...2\n",
      "* `` -> ...3\n",
      "\n"
     ]
    }
   ],
   "source": [
    "# un-data B1GQ_S1, P3_S1 \n",
    "\n",
    "z=0\n",
    "for(k in codes){\n",
    "  z=z+1\n",
    "  assign(k,read_xlsx(paste(path,'MA_rep/un_data/',names[z],'.xlsx',sep = '')))\n",
    "}\n",
    "\n",
    "# eurostat raw income data\n",
    "\n",
    "disp_raw<-read_xlsx(paste(path,'MA_rep/eurostat_data/NASQ_10_NF_TR__custom_9241181620470056331','.xlsx',sep = ''),sheet = 3)\n",
    "\n",
    "# eurostat data to get deflator\n",
    "\n",
    "raw_defl<-read_xlsx(paste(path,'MA_rep/eurostat_data/NAMQ_10_GDP__custom_9282471620593160149','.xlsx',sep = ''),sheet = 3)\n",
    "\n",
    "# eurostat nat income data\n",
    "\n",
    "natinc_raw<-read_xlsx(paste(path,'MA_rep/eurostat_data/NASQ_10_NF_TR__custom_9524881621008698098','.xlsx',sep = ''),sheet = 3)\n",
    "\n",
    "# eurostat data cross boarder work \n",
    "\n",
    "cb_raw<-read_xlsx(paste(path,'MA_rep/eurostat_data/LFSQ_EGAN__custom_10069781622282993343','.xlsx',sep = ''),sheet = 3)[-c(1:10,37:41),]\n",
    "\n",
    "# eurostat international investment data\n",
    "\n",
    "intinv_raw<-read_xlsx(paste(path,'MA_rep/eurostat_data/BOP_IIP6_Q__custom_10998231624869611973','.xlsx',sep = ''),sheet = 3)\n",
    "\n",
    "# Oxford Covid-19 Government Response Tracker\n",
    "\n",
    "mc_raw<-read_xlsx(paste(path,'MA_rep/OxCGRT_data/OxCGRT_timeseries_all','.xlsx',sep = ''),sheet = 1) # restrictions\n",
    "ps_raw<-read_xlsx(paste(path,'MA_rep/OxCGRT_data/OxCGRT_timeseries_all','.xlsx',sep = ''),sheet = 4) # policy support\n",
    "sh_raw<-read_xlsx(paste(path,'MA_rep/OxCGRT_data/OxCGRT_timeseries_all','.xlsx',sep = ''),sheet = 'c6_stay_at_home_requirements') # stay at home requirements\n",
    "dcb_raw<-read_xlsx(paste(path,'MA_rep/OxCGRT_data/OxCGRT_timeseries_all','.xlsx',sep = ''),sheet = 'c8_internationaltravel') # movement restrictions\n",
    "\n",
    "# data to get incidence levels eurostat and OxCGRT\n",
    "\n",
    "ic_raw<-read_xlsx(paste(path,'MA_rep/OxCGRT_data/OxCGRT_timeseries_all','.xlsx',sep = ''),sheet = 'confirmed_cases') # confirmed cases\n",
    "pop_raw<-read_xlsx(paste(path,'MA_rep/eurostat_data/DEMO_PJAN$DEFAULTVIEW1623014373650','.xlsx',sep = ''),sheet = 3) # population as of 01/01/2019 - pre covid such that deaths do not influece incidence "
   ]
  },
  {
   "cell_type": "markdown",
   "metadata": {},
   "source": [
    "### get 'tilde' variables and put everything together in a data frame"
   ]
  },
  {
   "cell_type": "code",
   "execution_count": 6,
   "metadata": {},
   "outputs": [
    {
     "data": {
      "text/html": [
       "<table>\n",
       "<caption>A data.frame: 6 × 16</caption>\n",
       "<thead>\n",
       "\t<tr><th></th><th scope=col>pit</th><th scope=col>nat</th><th scope=col>pop</th><th scope=col>con</th><th scope=col>inc</th><th scope=col>gdp</th><th scope=col>ic</th><th scope=col>mc</th><th scope=col>ps</th><th scope=col>nni</th><th scope=col>gni</th><th scope=col>dcb</th><th scope=col>sh</th><th scope=col>year</th><th scope=col>GDP</th><th scope=col>Gdp</th></tr>\n",
       "\t<tr><th></th><th scope=col>&lt;int&gt;</th><th scope=col>&lt;fct&gt;</th><th scope=col>&lt;dbl&gt;</th><th scope=col>&lt;dbl&gt;</th><th scope=col>&lt;dbl&gt;</th><th scope=col>&lt;dbl&gt;</th><th scope=col>&lt;dbl&gt;</th><th scope=col>&lt;dbl&gt;</th><th scope=col>&lt;dbl&gt;</th><th scope=col>&lt;dbl&gt;</th><th scope=col>&lt;dbl&gt;</th><th scope=col>&lt;dbl&gt;</th><th scope=col>&lt;dbl&gt;</th><th scope=col>&lt;dbl&gt;</th><th scope=col>&lt;dbl&gt;</th><th scope=col>&lt;dbl&gt;</th></tr>\n",
       "</thead>\n",
       "<tbody>\n",
       "\t<tr><th scope=row>56</th><td>56</td><td>au</td><td> 8858775</td><td>-0.022121075</td><td>-0.05709470</td><td>-0.023567000</td><td>0.0011491431</td><td>18.76231</td><td>14.14835</td><td>-0.05718963</td><td>-0.047568705</td><td>0.0000000</td><td>0.1758242</td><td>2020</td><td>1</td><td> 81980</td></tr>\n",
       "\t<tr><th scope=row>57</th><td>57</td><td>au</td><td> 8858775</td><td> 0.004878134</td><td> 0.04242925</td><td>-0.019640247</td><td>0.0008563261</td><td>63.13538</td><td>87.50000</td><td> 0.04187343</td><td> 0.040232105</td><td>0.0000000</td><td>0.3296703</td><td>2020</td><td>1</td><td> 73186</td></tr>\n",
       "\t<tr><th scope=row>58</th><td>58</td><td>au</td><td> 8858775</td><td> 0.046772755</td><td>-0.01098804</td><td> 0.059284649</td><td>0.0030531309</td><td>38.04217</td><td>87.50000</td><td>-0.01366692</td><td>-0.016330370</td><td>0.0000000</td><td>0.0000000</td><td>2020</td><td>1</td><td> 81818</td></tr>\n",
       "\t<tr><th scope=row>59</th><td>59</td><td>au</td><td> 8858775</td><td>-0.064857309</td><td>-0.01406840</td><td>-0.043663617</td><td>0.0356710719</td><td>68.18804</td><td>96.46739</td><td>-0.01052892</td><td>-0.005505626</td><td>0.0000000</td><td>0.8260870</td><td>2020</td><td>1</td><td> 79603</td></tr>\n",
       "\t<tr><th scope=row>115</th><td>56</td><td>be</td><td>11455519</td><td>-0.062175131</td><td>-0.05873553</td><td>-0.045979884</td><td>0.0011151830</td><td>20.61429</td><td>18.13187</td><td>-0.05601728</td><td>-0.050937996</td><td>0.1318681</td><td>0.1538462</td><td>2020</td><td>1</td><td>100483</td></tr>\n",
       "\t<tr><th scope=row>116</th><td>57</td><td>be</td><td>11455519</td><td> 0.015608442</td><td> 0.01135441</td><td>-0.003927819</td><td>0.0042470359</td><td>71.75297</td><td>87.50000</td><td> 0.01312232</td><td> 0.014637664</td><td>0.3736264</td><td>0.7472527</td><td>2020</td><td>1</td><td> 88608</td></tr>\n",
       "</tbody>\n",
       "</table>\n"
      ],
      "text/latex": [
       "A data.frame: 6 × 16\n",
       "\\begin{tabular}{r|llllllllllllllll}\n",
       "  & pit & nat & pop & con & inc & gdp & ic & mc & ps & nni & gni & dcb & sh & year & GDP & Gdp\\\\\n",
       "  & <int> & <fct> & <dbl> & <dbl> & <dbl> & <dbl> & <dbl> & <dbl> & <dbl> & <dbl> & <dbl> & <dbl> & <dbl> & <dbl> & <dbl> & <dbl>\\\\\n",
       "\\hline\n",
       "\t56 & 56 & au &  8858775 & -0.022121075 & -0.05709470 & -0.023567000 & 0.0011491431 & 18.76231 & 14.14835 & -0.05718963 & -0.047568705 & 0.0000000 & 0.1758242 & 2020 & 1 &  81980\\\\\n",
       "\t57 & 57 & au &  8858775 &  0.004878134 &  0.04242925 & -0.019640247 & 0.0008563261 & 63.13538 & 87.50000 &  0.04187343 &  0.040232105 & 0.0000000 & 0.3296703 & 2020 & 1 &  73186\\\\\n",
       "\t58 & 58 & au &  8858775 &  0.046772755 & -0.01098804 &  0.059284649 & 0.0030531309 & 38.04217 & 87.50000 & -0.01366692 & -0.016330370 & 0.0000000 & 0.0000000 & 2020 & 1 &  81818\\\\\n",
       "\t59 & 59 & au &  8858775 & -0.064857309 & -0.01406840 & -0.043663617 & 0.0356710719 & 68.18804 & 96.46739 & -0.01052892 & -0.005505626 & 0.0000000 & 0.8260870 & 2020 & 1 &  79603\\\\\n",
       "\t115 & 56 & be & 11455519 & -0.062175131 & -0.05873553 & -0.045979884 & 0.0011151830 & 20.61429 & 18.13187 & -0.05601728 & -0.050937996 & 0.1318681 & 0.1538462 & 2020 & 1 & 100483\\\\\n",
       "\t116 & 57 & be & 11455519 &  0.015608442 &  0.01135441 & -0.003927819 & 0.0042470359 & 71.75297 & 87.50000 &  0.01312232 &  0.014637664 & 0.3736264 & 0.7472527 & 2020 & 1 &  88608\\\\\n",
       "\\end{tabular}\n"
      ],
      "text/markdown": [
       "\n",
       "A data.frame: 6 × 16\n",
       "\n",
       "| <!--/--> | pit &lt;int&gt; | nat &lt;fct&gt; | pop &lt;dbl&gt; | con &lt;dbl&gt; | inc &lt;dbl&gt; | gdp &lt;dbl&gt; | ic &lt;dbl&gt; | mc &lt;dbl&gt; | ps &lt;dbl&gt; | nni &lt;dbl&gt; | gni &lt;dbl&gt; | dcb &lt;dbl&gt; | sh &lt;dbl&gt; | year &lt;dbl&gt; | GDP &lt;dbl&gt; | Gdp &lt;dbl&gt; |\n",
       "|---|---|---|---|---|---|---|---|---|---|---|---|---|---|---|---|---|\n",
       "| 56 | 56 | au |  8858775 | -0.022121075 | -0.05709470 | -0.023567000 | 0.0011491431 | 18.76231 | 14.14835 | -0.05718963 | -0.047568705 | 0.0000000 | 0.1758242 | 2020 | 1 |  81980 |\n",
       "| 57 | 57 | au |  8858775 |  0.004878134 |  0.04242925 | -0.019640247 | 0.0008563261 | 63.13538 | 87.50000 |  0.04187343 |  0.040232105 | 0.0000000 | 0.3296703 | 2020 | 1 |  73186 |\n",
       "| 58 | 58 | au |  8858775 |  0.046772755 | -0.01098804 |  0.059284649 | 0.0030531309 | 38.04217 | 87.50000 | -0.01366692 | -0.016330370 | 0.0000000 | 0.0000000 | 2020 | 1 |  81818 |\n",
       "| 59 | 59 | au |  8858775 | -0.064857309 | -0.01406840 | -0.043663617 | 0.0356710719 | 68.18804 | 96.46739 | -0.01052892 | -0.005505626 | 0.0000000 | 0.8260870 | 2020 | 1 |  79603 |\n",
       "| 115 | 56 | be | 11455519 | -0.062175131 | -0.05873553 | -0.045979884 | 0.0011151830 | 20.61429 | 18.13187 | -0.05601728 | -0.050937996 | 0.1318681 | 0.1538462 | 2020 | 1 | 100483 |\n",
       "| 116 | 57 | be | 11455519 |  0.015608442 |  0.01135441 | -0.003927819 | 0.0042470359 | 71.75297 | 87.50000 |  0.01312232 |  0.014637664 | 0.3736264 | 0.7472527 | 2020 | 1 |  88608 |\n",
       "\n"
      ],
      "text/plain": [
       "    pit nat pop      con          inc         gdp          ic          \n",
       "56  56  au   8858775 -0.022121075 -0.05709470 -0.023567000 0.0011491431\n",
       "57  57  au   8858775  0.004878134  0.04242925 -0.019640247 0.0008563261\n",
       "58  58  au   8858775  0.046772755 -0.01098804  0.059284649 0.0030531309\n",
       "59  59  au   8858775 -0.064857309 -0.01406840 -0.043663617 0.0356710719\n",
       "115 56  be  11455519 -0.062175131 -0.05873553 -0.045979884 0.0011151830\n",
       "116 57  be  11455519  0.015608442  0.01135441 -0.003927819 0.0042470359\n",
       "    mc       ps       nni         gni          dcb       sh        year GDP\n",
       "56  18.76231 14.14835 -0.05718963 -0.047568705 0.0000000 0.1758242 2020 1  \n",
       "57  63.13538 87.50000  0.04187343  0.040232105 0.0000000 0.3296703 2020 1  \n",
       "58  38.04217 87.50000 -0.01366692 -0.016330370 0.0000000 0.0000000 2020 1  \n",
       "59  68.18804 96.46739 -0.01052892 -0.005505626 0.0000000 0.8260870 2020 1  \n",
       "115 20.61429 18.13187 -0.05601728 -0.050937996 0.1318681 0.1538462 2020 1  \n",
       "116 71.75297 87.50000  0.01312232  0.014637664 0.3736264 0.7472527 2020 1  \n",
       "    Gdp   \n",
       "56   81980\n",
       "57   73186\n",
       "58   81818\n",
       "59   79603\n",
       "115 100483\n",
       "116  88608"
      ]
     },
     "metadata": {},
     "output_type": "display_data"
    }
   ],
   "source": [
    "################################## get y,c and i 'tilde' ####################################################\n",
    "\n",
    "row_gdp='Gross domestic product at market prices [B1GQ_S1]'\n",
    "row_con='Final consumption expenditure [P3_S1]'\n",
    "\n",
    "gdp_tot=rep(0,60)\n",
    "con_tot=rep(0,60)\n",
    "\n",
    "for (i in codes) { # extract relevant variables\n",
    "  assign(paste(\"gdp\",i,sep=\"_\"),get(i)[get(i)$Indicator==row_gdp & is.na(get(i)$`Reference year`)==0,][1,][7:66])\n",
    "  assign(paste(\"con\",i,sep=\"_\"),get(i)[get(i)$Indicator==row_con & is.na(get(i)$`Reference year`)==0,][1,][7:66])\n",
    "  gdp_tot=gdp_tot+get(paste(\"gdp\",i,sep=\"_\"))\n",
    "  con_tot=con_tot+get(paste(\"con\",i,sep=\"_\")) \n",
    "}\n",
    "\n",
    "for (i in c(codes,'tot')){ # get log growth rates\n",
    "  assign(paste(\"gdp\",i,sep=\"_\"),log.diff(get(paste(\"gdp\",i,sep=\"_\"))))\n",
    "  assign(paste(\"con\",i,sep=\"_\"),log.diff(get(paste(\"con\",i,sep=\"_\"))))\n",
    "}\n",
    "\n",
    "for (i in codes){ # get tilde\n",
    "  assign(paste(\"gdp\",i,sep=\"_\"),get(paste(\"gdp\",i,sep=\"_\"))-gdp_tot)\n",
    "  assign(paste(\"con\",i,sep=\"_\"),get(paste(\"con\",i,sep=\"_\"))-con_tot)\n",
    "}\n",
    "\n",
    "################################## get disp inc 'tilde'  ####################################################\n",
    "\n",
    "disp<-disp_raw[disp_raw$`Data extracted on 08/05/2021 12:34:19 from [ESTAT]` %in% c(names,'TIME'),]\n",
    "cols=c(1)\n",
    "for(t in 2006:2020){\n",
    "  cols=c(cols,grep(toString(t), disp[1,]))\n",
    "}\n",
    "disp=disp[,cols]\n",
    "inc_tot=rep(0,60)\n",
    "z=0\n",
    "bad=c() # verctor for index of countries with unsufficient data\n",
    "for(k in names){\n",
    "  z=z+1\n",
    "  c=codes[z]\n",
    "  tmp=disp[disp[,1]==k,][,-1]\n",
    "  assign(paste(\"inc\",c,sep=\"_\"),to.num(tmp[2,])-to.num(tmp[1,]))\n",
    "  if(is.na(sum(get(paste(\"inc\",c,sep=\"_\"))))==0){\n",
    "  inc_tot=inc_tot+get(paste(\"inc\",c,sep=\"_\"))\n",
    "  }\n",
    "  else{bad=c(bad,z)}\n",
    "}\n",
    "\n",
    "if(length(bad)!=0){\n",
    "names=names[-bad]\n",
    "codes=codes[-bad]\n",
    "obs=length(codes)}\n",
    "\n",
    "for (i in c(codes,'tot')){ # get log growth rates\n",
    "  assign(paste(\"inc\",i,sep=\"_\"),log.diff(get(paste(\"inc\",i,sep=\"_\"))))\n",
    "}\n",
    "\n",
    "#begin deflate income # check this logic, save alternaticve nominal - ral growth = inflation # checked works fine\n",
    "defl<-raw_defl[raw_defl$`Data extracted on 09/05/2021 23:13:09 from [ESTAT]` %in% c('TIME','UNIT (Labels)',names),]\n",
    "col=c(1,grep('20',defl[1,]))\n",
    "defl<-to.num(defl[,col][-(1:2),-1])\n",
    "tot.defl<-colSums(defl)\n",
    "defl=defl[,seq(1,length(defl[1,]),2)]/defl[,seq(2,length(defl[1,]),2)]\n",
    "tot.defl=tot.defl[seq(1,length(tot.defl),2)]/tot.defl[seq(2,length(tot.defl),2)]\n",
    "tot.defl=log.diff(tot.defl)\n",
    "z=0\n",
    "for(i in codes){\n",
    "  z=z+1\n",
    "  assign(paste(\"defl\",i,sep=\"_\"),log.diff(defl[z,])-tot.defl)\n",
    "}\n",
    "#end deflate income\n",
    "for (i in codes){ # get tilde\n",
    "  assign(paste(\"inc\",i,sep=\"_\"),get(paste(\"inc\",i,sep=\"_\"))-inc_tot-get(paste(\"defl\",i,sep=\"_\")))\n",
    "}\n",
    "\n",
    "################################# get net and gross nat income ###############################################\n",
    "\n",
    "natinc<-natinc_raw[natinc_raw$`Data extracted on 14/05/2021 18:11:41 from [ESTAT]` %in% c(names,'TIME'),]\n",
    "cols=c(1,2)\n",
    "for(t in 2006:2020){\n",
    "  cols=c(cols,grep(toString(t), natinc[1,]))\n",
    "}\n",
    "natinc=natinc[,cols]\n",
    "\n",
    "gni_tot=log.diff(colSums(to.num(natinc[natinc$`Data extracted on 14/05/2021 18:11:41 from [ESTAT]`!='TIME' & natinc$...2=='Gross national income at market prices',-(1:2)])))\n",
    "nni_tot=log.diff(colSums(to.num(natinc[natinc$`Data extracted on 14/05/2021 18:11:41 from [ESTAT]`!='TIME' & natinc$...2=='Net national income at market prices',-(1:2)])))\n",
    "z=0\n",
    "\n",
    "for(k in names){\n",
    "  z=z+1\n",
    "  c=codes[z]\n",
    "  assign(paste(\"nni\",c,sep=\"_\"),log.diff(to.num(natinc[natinc$`Data extracted on 14/05/2021 18:11:41 from [ESTAT]`==k & natinc$...2=='Net national income at market prices',-(1:2)]))-nni_tot-get(paste(\"defl\",c,sep=\"_\")))\n",
    "  assign(paste(\"gni\",c,sep=\"_\"),log.diff(to.num(natinc[natinc$`Data extracted on 14/05/2021 18:11:41 from [ESTAT]`==k & natinc$...2=='Gross national income at market prices',-(1:2)]))-gni_tot-get(paste(\"defl\",c,sep=\"_\")))\n",
    "}\n",
    "\n",
    "################################# prepare measure data #######################################################\n",
    "\n",
    "mc<-mc_raw[mc_raw$country_name %in% names,]   # here alphabetical ordering becomes importand\n",
    "mc.2020<-mc[, -grep(\"2021\", colnames(mc))]\n",
    "\n",
    "mc.q1<-rowMeans(mc.2020[,c(grep(\"Jan\", colnames(mc.2020)),grep(\"Feb\", colnames(mc.2020)),grep(\"Mar\", colnames(mc.2020)))])\n",
    "mc.q2<-rowMeans(mc.2020[,c(grep(\"Apr\", colnames(mc.2020)),grep(\"May\", colnames(mc.2020)),grep(\"Jun\", colnames(mc.2020)))])\n",
    "mc.q3<-rowMeans(mc.2020[,c(grep(\"Jul\", colnames(mc.2020)),grep(\"Aug\", colnames(mc.2020)),grep(\"Sep\", colnames(mc.2020)))])\n",
    "mc.q4<-rowMeans(mc.2020[,c(grep(\"Oct\", colnames(mc.2020)),grep(\"Nov\", colnames(mc.2020)),grep(\"Dec\", colnames(mc.2020)))])\n",
    "\n",
    "ps<-ps_raw[ps_raw$country_name %in% names,]\n",
    "ps.2020<-ps[, -grep(\"2021\", colnames(ps))]\n",
    "\n",
    "ps.q1<-rowMeans(ps.2020[,c(grep(\"Jan\", colnames(ps.2020)),grep(\"Feb\", colnames(ps.2020)),grep(\"Mar\", colnames(ps.2020)))])\n",
    "ps.q2<-rowMeans(ps.2020[,c(grep(\"Apr\", colnames(ps.2020)),grep(\"May\", colnames(ps.2020)),grep(\"Jun\", colnames(ps.2020)))])\n",
    "ps.q3<-rowMeans(ps.2020[,c(grep(\"Jul\", colnames(ps.2020)),grep(\"Aug\", colnames(ps.2020)),grep(\"Sep\", colnames(ps.2020)))])\n",
    "ps.q4<-rowMeans(ps.2020[,c(grep(\"Oct\", colnames(ps.2020)),grep(\"Nov\", colnames(ps.2020)),grep(\"Dec\", colnames(ps.2020)))])\n",
    "\n",
    "################################ prepare incidence data #######################################################\n",
    "\n",
    "cutoffs<-c('country_name','31Mar2020','30Jun2020','30Sep2020','31Dec2020')\n",
    "ic_raw<-ic_raw[,names(ic_raw) %in% cutoffs]\n",
    "ic_raw[,-(1:2)]<-ic_raw[,-(1:2)]-ic_raw[,-c(1,5)]\n",
    "\n",
    "ic_raw=ic_raw[c(t(ic_raw[,1])) %in% names,]\n",
    "pop_raw=pop_raw[c(t(pop_raw[,1])) %in% names,1:2]\n",
    "ic_meet=ic_raw\n",
    "\n",
    "pop=c()\n",
    "k=0\n",
    "for (i in names) {\n",
    "  k=k+1\n",
    "  l=codes[k]\n",
    "  assign(paste(\"ic\",l,sep=\"_\"),c(rep(0,55),to.num(ic_meet[ic_meet[,1]==i,-1])/to.num(pop_raw[pop_raw[,1]==i,-1])[1,1]))\n",
    "  pop[k]=to.num(pop_raw[pop_raw[,1]==i,-1])[1,1]\n",
    "}\n",
    "\n",
    "############################## put everything into a df #######################################################\n",
    "\n",
    "t=length(get(paste('gdp',codes[1],sep='_')))\n",
    "dta<-data.frame(pit=1:t,'nat'=rep(codes[1],t),'pop'=rep(pop[1],t),'con'=get(paste('con',codes[1],sep='_')),'inc'=get(paste('inc',codes[1],sep='_')),'gdp'=get(paste('gdp',codes[1],sep='_')),'ic'=get(paste('ic',codes[1],sep='_')),'mc'=rep(0,t),'ps'=rep(0,t),'nni'=get(paste('nni',codes[1],sep = '_')),'gni'=get(paste('gni',codes[1],sep = '_')))\n",
    "\n",
    "k=1\n",
    "for (i in codes[2:obs]) {\n",
    "  k=k+1\n",
    "  tmp=data.frame(pit=1:t,'nat'=rep(i,t),'pop'=rep(pop[k],t),'con'=get(paste('con',i,sep='_')),'inc'=get(paste('inc',i,sep='_')),'gdp'=get(paste('gdp',i,sep='_')),'ic'=get(paste('ic',i,sep='_')),'mc'=rep(0,t),'ps'=rep(0,t),'nni'=get(paste('nni',i,sep = '_')),'gni'=get(paste('gni',i,sep = '_')))\n",
    "  dta=rbind(dta,tmp)\n",
    "}\n",
    "\n",
    "k=0\n",
    "for (i in codes[1:obs]) {\n",
    "  k=k+1\n",
    "  dta[dta$nat==i & dta$pit==56,'mc']=mc.q1[k]\n",
    "  dta[dta$nat==i & dta$pit==57,'mc']=mc.q2[k]\n",
    "  dta[dta$nat==i & dta$pit==58,'mc']=mc.q3[k]\n",
    "  dta[dta$nat==i & dta$pit==59,'mc']=mc.q4[k]\n",
    "  dta[dta$nat==i & dta$pit==56,'ps']=ps.q1[k]\n",
    "  dta[dta$nat==i & dta$pit==57,'ps']=ps.q2[k]\n",
    "  dta[dta$nat==i & dta$pit==58,'ps']=ps.q3[k]\n",
    "  dta[dta$nat==i & dta$pit==59,'ps']=ps.q4[k]\n",
    "\n",
    "}\n",
    "\n",
    "################################### add border closings (share of days) #####################\n",
    "\n",
    "dcb<-dcb_raw[dcb_raw$country_name %in% names,]   # here alphabetical ordering becomes importand\n",
    "dcb.2020<-dcb[, -grep(\"2021\", colnames(dcb))]\n",
    "\n",
    "dcb.q1<-rowMeans(dcb.2020[,c(grep(\"Jan\", colnames(dcb.2020)),grep(\"Feb\", colnames(dcb.2020)),grep(\"Mar\", colnames(dcb.2020)))]==4)\n",
    "dcb.q2<-rowMeans(dcb.2020[,c(grep(\"Apr\", colnames(dcb.2020)),grep(\"May\", colnames(dcb.2020)),grep(\"Jun\", colnames(dcb.2020)))]==4)\n",
    "dcb.q3<-rowMeans(dcb.2020[,c(grep(\"Jul\", colnames(dcb.2020)),grep(\"Aug\", colnames(dcb.2020)),grep(\"Sep\", colnames(dcb.2020)))]==4)\n",
    "dcb.q4<-rowMeans(dcb.2020[,c(grep(\"Oct\", colnames(dcb.2020)),grep(\"Nov\", colnames(dcb.2020)),grep(\"Dec\", colnames(dcb.2020)))]==4)\n",
    "\n",
    "dta$dcb=0\n",
    "\n",
    "k=0\n",
    "for (i in codes[1:obs]) {\n",
    "  k=k+1\n",
    "  dta[dta$nat==i & dta$pit==56,'dcb']=dcb.q1[k]\n",
    "  dta[dta$nat==i & dta$pit==57,'dcb']=dcb.q2[k]\n",
    "  dta[dta$nat==i & dta$pit==58,'dcb']=dcb.q3[k]\n",
    "  dta[dta$nat==i & dta$pit==59,'dcb']=dcb.q4[k]\n",
    "}\n",
    "\n",
    "################################### add stay at home requirements (share of days) ###########\n",
    "\n",
    "sh<-sh_raw[sh_raw$country_name %in% names,]   # here alphabetical ordering becomes important\n",
    "sh.2020<-sh[, -grep(\"2021\", colnames(sh))]\n",
    "\n",
    "sh.q1<-rowMeans(sh.2020[,c(grep(\"Jan\", colnames(sh.2020)),grep(\"Feb\", colnames(sh.2020)),grep(\"Mar\", colnames(sh.2020)))]>1)\n",
    "sh.q2<-rowMeans(sh.2020[,c(grep(\"Apr\", colnames(sh.2020)),grep(\"May\", colnames(sh.2020)),grep(\"Jun\", colnames(sh.2020)))]>1)\n",
    "sh.q3<-rowMeans(sh.2020[,c(grep(\"Jul\", colnames(sh.2020)),grep(\"Aug\", colnames(sh.2020)),grep(\"Sep\", colnames(sh.2020)))]>1)\n",
    "sh.q4<-rowMeans(sh.2020[,c(grep(\"Oct\", colnames(sh.2020)),grep(\"Nov\", colnames(sh.2020)),grep(\"Dec\", colnames(sh.2020)))]>1)\n",
    "\n",
    "dta$sh=0\n",
    "\n",
    "k=0\n",
    "for (i in codes[1:obs]) {\n",
    "  k=k+1\n",
    "  dta[dta$nat==i & dta$pit==56,'sh']=sh.q1[k]\n",
    "  dta[dta$nat==i & dta$pit==57,'sh']=sh.q2[k]\n",
    "  dta[dta$nat==i & dta$pit==58,'sh']=sh.q3[k]\n",
    "  dta[dta$nat==i & dta$pit==59,'sh']=sh.q4[k]\n",
    "}\n",
    "\n",
    "################################### add years for clustering ################################\n",
    "\n",
    "dta$year=year(dta$pit,start = 2006)\n",
    "\n",
    "################################### add seansonal and calendar adjusted GDP for WLS #########\n",
    "\n",
    "for (i in codes) { # gdp levels seasonal and calendar adjusted\n",
    "  assign(paste(\"w.GDP\",i,sep=\"_\"),to.num(get(i)[get(i)$Indicator==row_gdp & is.na(get(i)$`Reference year`)==0,][2,][7:66]))\n",
    "}\n",
    "\n",
    "dta$GDP=0\n",
    "\n",
    "for (i in 1:nrow(dta)) {\n",
    "  dta$GDP[i]=get(paste('w.GDP',dta$nat[i],sep = '_'))[dta$pit[i]+1]\n",
    "}\n",
    "\n",
    "if(wls==0){\n",
    "  dta$Gdp=dta$GDP\n",
    "  dta$GDP=1\n",
    "}\n",
    "\n",
    "# show head of 2020 subset of df\n",
    "\n",
    "head(dta[dta$pit>55,])"
   ]
  },
  {
   "cell_type": "markdown",
   "metadata": {},
   "source": [
    "### Figure 4: Correlation matrix for european sample"
   ]
  },
  {
   "cell_type": "code",
   "execution_count": 7,
   "metadata": {},
   "outputs": [
    {
     "data": {
      "image/png": "[encoded data removed]",
      "text/plain": [
       "Plot with title \"\""
      ]
     },
     "metadata": {
      "image/png": {
       "height": 420,
       "width": 420
      },
      "text/plain": {
       "height": 420,
       "width": 420
      }
     },
     "output_type": "display_data"
    },
    {
     "data": {
      "image/png": "[encoded data removed]",
      "text/plain": [
       "Plot with title \"\""
      ]
     },
     "metadata": {
      "image/png": {
       "height": 420,
       "width": 420
      },
      "text/plain": {
       "height": 420,
       "width": 420
      }
     },
     "output_type": "display_data"
    }
   ],
   "source": [
    "# pre 2020\n",
    "chart.Correlation(dta[dta$pit<=55,c('gdp','con','inc')])\n",
    "\n",
    "# 2020\n",
    "chart.Correlation(dta[dta$pit>55,c('gdp','con','inc','mc','sh','ps','ic')])"
   ]
  },
  {
   "cell_type": "markdown",
   "metadata": {},
   "source": [
    "### Table 1: OLS: Y = country fixed effects + GDP\n"
   ]
  },
  {
   "cell_type": "code",
   "execution_count": 8,
   "metadata": {},
   "outputs": [
    {
     "name": "stdout",
     "output_type": "stream",
     "text": [
      "\n",
      "OLS: Y = country fixed effects + GDP\n",
      "=============================================================\n",
      "                                                             \n",
      "                         Y=Consumption    Y=Disposable Income\n",
      "                              (1)                 (2)        \n",
      "-------------------------------------------------------------\n",
      "gdp                         0.427**            0.746***      \n",
      "                            (0.196)             (0.137)      \n",
      "                                                             \n",
      "Constant                   -0.001***           0.001***      \n",
      "                           (0.0002)            (0.0004)      \n",
      "                                                             \n",
      "Country fixed effects         Yes                 Yes        \n",
      "=============================================================\n",
      "Notes:                 ***Significant at the 1 percent level.\n",
      "                        **Significant at the 5 percent level.\n",
      "                        *Significant at the 10 percent level.\n"
     ]
    }
   ],
   "source": [
    "r.s.c.1<-glm(con~factor(nat)+gdp,data = dta,weights=dta$GDP)\n",
    "r.s.i.1<-glm(inc~factor(nat)+gdp,data = dta,weights=dta$GDP)\n",
    "Consumption<-coeftest(r.s.c.1,vcovCL,cluster=dta[,c('nat','year')])\n",
    "Disposable_Income<-coeftest(r.s.i.1,vcovCL,cluster=dta[,c('nat','year')])\n",
    "stargazer(Consumption,Disposable_Income,type = output,title = 'OLS: Y = country fixed effects + GDP',style = 'qje',omit = 'factor',omit.labels = ' Country fixed effects',column.labels = c('Y=Consumption','Y=Disposable Income'))"
   ]
  },
  {
   "cell_type": "markdown",
   "metadata": {},
   "source": [
    "### Table 2: OLS: Y = country fixed effects + incidence + GDP * covid measures * policy support"
   ]
  },
  {
   "cell_type": "code",
   "execution_count": 9,
   "metadata": {},
   "outputs": [
    {
     "name": "stdout",
     "output_type": "stream",
     "text": [
      "\n",
      "OLS: Y = country fixed effects + incidence + GDP * covid measures * policy support\n",
      "=============================================================\n",
      "                                                             \n",
      "                         Y=Consumption    Y=Disposable Income\n",
      "                              (1)                 (2)        \n",
      "-------------------------------------------------------------\n",
      "gdp                         0.369*             0.744***      \n",
      "                            (0.206)             (0.157)      \n",
      "                                                             \n",
      "ic                          -0.054             0.727***      \n",
      "                            (0.101)             (0.161)      \n",
      "                                                             \n",
      "mc                         0.0002***           0.001***      \n",
      "                           (0.00003)           (0.0001)      \n",
      "                                                             \n",
      "ps                         -0.00004            -0.0003**     \n",
      "                           (0.0001)            (0.0001)      \n",
      "                                                             \n",
      "gdp:mc                       0.004             0.028***      \n",
      "                                                (0.007)      \n",
      "                                                             \n",
      "mc:ps                      -0.00000           -0.00001**     \n",
      "                           (0.00000)           (0.00000)     \n",
      "                                                             \n",
      "gdp:ps                      -0.003               0.001       \n",
      "                            (0.004)             (0.005)      \n",
      "                                                             \n",
      "gdp:mc:ps                  0.0001***          -0.0004***     \n",
      "                           (0.00002)           (0.0001)      \n",
      "                                                             \n",
      "Constant                    -0.0003            0.001***      \n",
      "                           (0.0003)            (0.0005)      \n",
      "                                                             \n",
      "Country fixed effects         Yes                 Yes        \n",
      "=============================================================\n",
      "Notes:                 ***Significant at the 1 percent level.\n",
      "                        **Significant at the 5 percent level.\n",
      "                        *Significant at the 10 percent level.\n"
     ]
    }
   ],
   "source": [
    "r.i.c.1<-glm(con~factor(nat)+gdp+ic+mc*gdp*ps,data = dta,weights=dta$GDP)\n",
    "r.i.i.1<-glm(inc~factor(nat)+gdp+ic+mc*gdp*ps,data = dta,weights=dta$GDP)\n",
    "Consumption<-coeftest(r.i.c.1,vcovCL,cluster=dta[,c('nat','year')])\n",
    "Disposable_Income<-coeftest(r.i.i.1,vcovCL,cluster=dta[,c('nat','year')])\n",
    "stargazer(Consumption,Disposable_Income,type = output,title = 'OLS: Y = country fixed effects + incidence + GDP * covid measures * policy support',style = 'qje',omit = 'factor',omit.labels = ' Country fixed effects',column.labels = c('Y=Consumption','Y=Disposable Income'))"
   ]
  },
  {
   "cell_type": "markdown",
   "metadata": {},
   "source": [
    "### Figure 5 \\& 6"
   ]
  },
  {
   "cell_type": "code",
   "execution_count": 10,
   "metadata": {},
   "outputs": [
    {
     "data": {
      "image/png": "[encoded data removed]",
      "text/plain": [
       "Plot with title \"Simple regression estimation of beta_u: income=red consum=blue\""
      ]
     },
     "metadata": {
      "image/png": {
       "height": 420,
       "width": 420
      },
      "text/plain": {
       "height": 420,
       "width": 420
      }
     },
     "output_type": "display_data"
    }
   ],
   "source": [
    "b.con.1=c()\n",
    "for(i in 4:59){\n",
    "  reg.con.1<-glm(con~factor(nat)+gdp,data = dta[dta$pit %in% (i-3):i,],weights=dta[dta$pit %in% (i-3):i,]$GDP)\n",
    "  b.con.1[i-3]=reg.con.1$coefficients['gdp']\n",
    "  assign(paste('r.ds.c',i-3,sep = '.'),reg.con.1)\n",
    "}\n",
    "\n",
    "b.inc.1=c()\n",
    "for(i in 4:59){\n",
    "  reg.inc.1<-glm(inc~factor(nat)+gdp,data = dta[dta$pit %in% (i-3):i,],weights=dta[dta$pit %in% (i-3):i,]$GDP)\n",
    "  b.inc.1[i-3]=reg.inc.1$coefficients['gdp']\n",
    "  assign(paste('r.ds.i',i-3,sep = '.'),reg.inc.1)\n",
    "}\n",
    "\n",
    "plot(seq(as.Date(\"2007/1/1\"), as.Date(\"2020/12/31\"), by = \"quarter\"),b.con.1,type = 'b',ylab = 'beta_u',xlab = 'Year',ylim = c(0,1),col = 'blue')\n",
    "lines(seq(as.Date(\"2007/1/1\"), as.Date(\"2020/12/31\"), by = \"quarter\"),b.inc.1,type = 'b',ylab = 'beta_u',xlab = 'Year',ylim = c(0,1),col = 'red')\n",
    "title('Simple regression estimation of beta_u: income=red consum=blue')\n"
   ]
  },
  {
   "cell_type": "code",
   "execution_count": 11,
   "metadata": {},
   "outputs": [
    {
     "data": {
      "image/png": "[encoded data removed]",
      "text/plain": [
       "Plot with title \"Estimation of beta_u with controlls at 0: income=red consum=blue\""
      ]
     },
     "metadata": {
      "image/png": {
       "height": 420,
       "width": 420
      },
      "text/plain": {
       "height": 420,
       "width": 420
      }
     },
     "output_type": "display_data"
    }
   ],
   "source": [
    "b.con.6=c()\n",
    "for(i in 4:59){\n",
    "  reg.con.6<-glm(con~factor(nat)+gdp*ps*mc+ic,data = dta[dta$pit %in% (i-3):i,],weights=dta[dta$pit %in% (i-3):i,]$GDP)\n",
    "  b.con.6[i-3]=reg.con.6$coefficients['gdp']\n",
    "  assign(paste('r.di.c',i-3,sep = '.'),reg.con.6)\n",
    "}\n",
    "\n",
    "b.inc.6=c()\n",
    "for(i in 4:59){\n",
    "  reg.inc.6<-glm(inc~factor(nat)+gdp*ps*mc+ic,data = dta[dta$pit %in% (i-3):i,],weights=dta[dta$pit %in% (i-3):i,]$GDP)\n",
    "  b.inc.6[i-3]=reg.inc.6$coefficients['gdp']\n",
    "  assign(paste('r.di.i',i-3,sep = '.'),reg.inc.6)\n",
    "}\n",
    "\n",
    "plot(seq(as.Date(\"2007/1/1\"), as.Date(\"2020/12/31\"), by = \"quarter\"),b.con.6,type = 'b',ylab = 'beta_u',xlab = 'Year',ylim = c(0,1),col = 'blue')\n",
    "lines(seq(as.Date(\"2007/1/1\"), as.Date(\"2020/12/31\"), by = \"quarter\"),b.inc.6,type = 'b',ylab = 'beta_u',xlab = 'Year',ylim = c(0,1),col = 'red')\n",
    "title('Estimation of beta_u with controlls at 0: income=red consum=blue')\n"
   ]
  },
  {
   "cell_type": "markdown",
   "metadata": {},
   "source": [
    "### Table 3 \\& 4: OLS: Consumption \\& Disposable Income  = country fixed effects + incidence + GDP * covid measures * policy support"
   ]
  },
  {
   "cell_type": "code",
   "execution_count": 12,
   "metadata": {},
   "outputs": [
    {
     "name": "stdout",
     "output_type": "stream",
     "text": [
      "\n",
      "OLS: Consumption = country fixed effects + incidence + GDP * covid measures * policy support\n",
      "================================================================================\n",
      "                                                                                \n",
      "                      high measures to support low measures to support    all   \n",
      "                                (1)                      (2)              (3)   \n",
      "--------------------------------------------------------------------------------\n",
      "ic                            0.693***                -0.916***         -0.054  \n",
      "                              (0.132)                  (0.039)          (0.103) \n",
      "                                                                                \n",
      "gdp                            0.488                    0.310           0.369*  \n",
      "                              (0.342)                  (0.228)          (0.208) \n",
      "                                                                                \n",
      "mc                           0.0001***               -0.0004***        0.0002***\n",
      "                             (0.00004)                (0.0001)         (0.00003)\n",
      "                                                                                \n",
      "ps                            0.001***                -0.0002**        -0.00004 \n",
      "                              (0.0002)                (0.0001)         (0.0001) \n",
      "                                                                                \n",
      "gdp:mc                         0.001                  -0.009***          0.004  \n",
      "                              (0.008)                  (0.001)                  \n",
      "                                                                                \n",
      "gdp:ps                        -0.017**                  0.007           -0.003  \n",
      "                              (0.008)                  (0.005)          (0.004) \n",
      "                                                                                \n",
      "mc:ps                       -0.00002***              0.00001***        -0.00000 \n",
      "                             (0.00000)                (0.00000)        (0.00000)\n",
      "                                                                                \n",
      "gdp:mc:ps                     0.0004**                 0.0001          0.0001***\n",
      "                              (0.0002)                (0.0001)         (0.00002)\n",
      "                                                                                \n",
      "Constant                     -0.001***                -0.0005**         -0.0003 \n",
      "                              (0.0001)                (0.0002)         (0.0003) \n",
      "                                                                                \n",
      "Country fixed effects           Yes                      Yes              Yes   \n",
      "================================================================================\n",
      "Notes:                                    ***Significant at the 1 percent level.\n",
      "                                           **Significant at the 5 percent level.\n",
      "                                           *Significant at the 10 percent level.\n",
      "\n",
      "OLS: Disposable Income = country fixed effects + incidence + GDP * covid measures * policy support\n",
      "=================================================================================\n",
      "                                                                                 \n",
      "                      high measures to support low measures to support    all    \n",
      "                                (1)                      (2)              (3)    \n",
      "---------------------------------------------------------------------------------\n",
      "ic                            1.271***                0.868***          0.727*** \n",
      "                              (0.249)                  (0.238)          (0.164)  \n",
      "                                                                                 \n",
      "gdp                           0.412***                0.910***          0.744*** \n",
      "                              (0.064)                  (0.147)          (0.159)  \n",
      "                                                                                 \n",
      "mc                            0.002***                0.001***          0.001*** \n",
      "                              (0.0003)                (0.0002)          (0.0001) \n",
      "                                                                                 \n",
      "ps                           -0.002***               -0.0003***        -0.0003** \n",
      "                              (0.0003)                (0.0001)          (0.0001) \n",
      "                                                                                 \n",
      "gdp:mc                        0.050***                0.040***          0.028*** \n",
      "                              (0.008)                  (0.009)          (0.007)  \n",
      "                                                                                 \n",
      "gdp:ps                        -0.021**                 -0.004            0.001   \n",
      "                              (0.008)                  (0.004)          (0.005)  \n",
      "                                                                                 \n",
      "mc:ps                         -0.00000               -0.00001***       -0.00001**\n",
      "                             (0.00001)                (0.00000)        (0.00000) \n",
      "                                                                                 \n",
      "gdp:mc:ps                    -0.0004**                -0.001***        -0.0004***\n",
      "                              (0.0002)                (0.0002)          (0.0001) \n",
      "                                                                                 \n",
      "Constant                       0.001                    0.001           0.001*** \n",
      "                              (0.001)                  (0.001)          (0.0005) \n",
      "                                                                                 \n",
      "Country fixed effects           Yes                      Yes              Yes    \n",
      "=================================================================================\n",
      "Notes:                                     ***Significant at the 1 percent level.\n",
      "                                            **Significant at the 5 percent level.\n",
      "                                            *Significant at the 10 percent level.\n"
     ]
    }
   ],
   "source": [
    "# sample split based on measure/support balance\n",
    "\n",
    "sub.dta=dta[dta$pit>55,c('pit','nat','mc','ps')]\n",
    "\n",
    "corrs<-data.frame(sub.dta[1:4,3:4])\n",
    "for(i in 2:13){\n",
    "  corrs<-data.frame(corrs,sub.dta[(1+4*(i-1)):(4+4*(i-1)),3:4])\n",
    "}\n",
    "\n",
    "ratio<-rbind(names,colMeans(corrs)[seq(1,26,2)]/colMeans(corrs)[seq(2,26,2)])\n",
    "\n",
    "subsam<-ratio[2,]>1\n",
    "othsam<-ratio[2,]<=1\n",
    "\n",
    "stargazer(coeftest(lm(con~factor(nat)+ic+gdp*mc*ps,data = dta[dta$nat %in% codes[subsam],]),vcovCL,cluster=dta[dta$nat %in% codes[subsam],][,c('nat','year')]),coeftest(lm(con~factor(nat)+ic+gdp*mc*ps,data = dta[dta$nat %in% codes[othsam],]),vcovCL,cluster=dta[dta$nat %in% codes[othsam],][,c('nat','year')]),coeftest(lm(con~factor(nat)+ic+gdp*mc*ps,data = dta[dta$nat %in% codes,]),vcovCL,cluster=dta[dta$nat %in% codes,][,c('nat','year')]),type=output,title = 'OLS: Consumption = country fixed effects + incidence + GDP * covid measures * policy support',style = 'qje',omit = 'factor',omit.labels = ' Country fixed effects',column.labels = c('high measures to support','low measures to support','all'))\n",
    "stargazer(coeftest(lm(inc~factor(nat)+ic+gdp*mc*ps,data = dta[dta$nat %in% codes[subsam],]),vcovCL,cluster=dta[dta$nat %in% codes[subsam],][,c('nat','year')]),coeftest(lm(inc~factor(nat)+ic+gdp*mc*ps,data = dta[dta$nat %in% codes[othsam],]),vcovCL,cluster=dta[dta$nat %in% codes[othsam],][,c('nat','year')]),coeftest(lm(inc~factor(nat)+ic+gdp*mc*ps,data = dta[dta$nat %in% codes,]),vcovCL,cluster=dta[dta$nat %in% codes,][,c('nat','year')]),type=output,title = 'OLS: Disposable Income = country fixed effects + incidence + GDP * covid measures * policy support',style = 'qje',omit = 'factor',omit.labels = ' Country fixed effects',column.labels = c('high measures to support','low measures to support','all'))"
   ]
  },
  {
   "cell_type": "markdown",
   "metadata": {},
   "source": [
    "### Table 5: OLS: Channel decomposition"
   ]
  },
  {
   "cell_type": "code",
   "execution_count": 13,
   "metadata": {},
   "outputs": [],
   "source": [
    "# static point of view\n",
    "\n",
    "s=0 # s+1 = starting point in time\n",
    "f=60 # l-1 = end point in time\n",
    "\n",
    "b=c()\n",
    "bf<-glm((gdp-gni)~factor(nat)+ic+gdp*mc*ps,data = dta[dta$pit>s & dta$pit<f,],weights=dta[dta$pit>s & dta$pit<f,]$GDP)\n",
    "b[1]=bf$coefficients['gdp']\n",
    "bd<-glm((gni-nni)~factor(nat)+ic+gdp*mc*ps,data = dta[dta$pit>s & dta$pit<f,],weights=dta[dta$pit>s & dta$pit<f,]$GDP)\n",
    "b[2]=bd$coefficients['gdp']\n",
    "bt<-glm((nni-inc)~factor(nat)+ic+gdp*mc*ps,data = dta[dta$pit>s & dta$pit<f,],weights=dta[dta$pit>s & dta$pit<f,]$GDP)\n",
    "b[3]=bt$coefficients['gdp']\n",
    "bs<-glm((inc-con)~factor(nat)+ic+gdp*mc*ps,data = dta[dta$pit>s & dta$pit<f,],weights=dta[dta$pit>s & dta$pit<f,]$GDP)\n",
    "b[4]=bs$coefficients['gdp']\n",
    "bu<-glm(con~factor(nat)+ic+gdp*mc*ps,data = dta[dta$pit>s & dta$pit<f,],weights=dta[dta$pit>s & dta$pit<f,]$GDP)\n",
    "b[5]=bu$coefficients['gdp']\n",
    "\n",
    "if(sum(b)!=1){print('attention, there might happend a mistake')}"
   ]
  },
  {
   "cell_type": "code",
   "execution_count": 14,
   "metadata": {},
   "outputs": [
    {
     "name": "stdout",
     "output_type": "stream",
     "text": [
      "\n",
      "OLS: Channel decomposition\n",
      "=========================================================================\n",
      "                                                                         \n",
      "                         bf         bd         bt        bs        bu    \n",
      "                         (1)       (2)        (3)        (4)       (5)   \n",
      "-------------------------------------------------------------------------\n",
      "ic                    -0.692***   -0.027     -0.009   0.781***   -0.054  \n",
      "                       (0.131)   (0.021)    (0.017)    (0.205)   (0.101) \n",
      "                                                                         \n",
      "gdp                   0.398***  -0.128***    -0.014     0.376    0.369*  \n",
      "                       (0.146)   (0.021)    (0.017)    (0.342)   (0.206) \n",
      "                                                                         \n",
      "mc                    -0.001*** -0.0001***  -0.00002  0.0005*** 0.0002***\n",
      "                      (0.0001)  (0.00001)  (0.00002)  (0.0001)  (0.00003)\n",
      "                                                                         \n",
      "ps                    0.0002*** 0.0001***  -0.0001***  -0.0002  -0.00004 \n",
      "                      (0.0001)  (0.00002)  (0.00003)  (0.0002)  (0.0001) \n",
      "                                                                         \n",
      "gdp:mc                -0.025*** -0.004***   0.00003    0.024**    0.004  \n",
      "                       (0.006)   (0.001)               (0.011)           \n",
      "                                                                         \n",
      "gdp:ps                 0.0001    -0.0001     -0.001     0.003    -0.003  \n",
      "                       (0.005)   (0.001)    (0.001)    (0.009)   (0.004) \n",
      "                                                                         \n",
      "mc:ps                 0.00001**  -0.00000  0.00000*** -0.00000  -0.00000 \n",
      "                      (0.00000) (0.00000)  (0.00000)  (0.00000) (0.00000)\n",
      "                                                                         \n",
      "gdp:mc:ps             0.0004***  0.0001**  0.00002**  -0.001**  0.0001***\n",
      "                      (0.0001)  (0.00002)  (0.00001)  (0.0002)  (0.00002)\n",
      "                                                                         \n",
      "Constant              -0.001***  0.00004    -0.00000  0.002***   -0.0003 \n",
      "                      (0.0004)   (0.0001)   (0.0001)   (0.001)  (0.0003) \n",
      "                                                                         \n",
      "Country fixed effects    Yes       Yes        Yes        Yes       Yes   \n",
      "=========================================================================\n",
      "Notes:                             ***Significant at the 1 percent level.\n",
      "                                    **Significant at the 5 percent level.\n",
      "                                    *Significant at the 10 percent level.\n"
     ]
    }
   ],
   "source": [
    "stargazer(coeftest(bf,vcovCL,cluster=dta[,c('nat','year')]),coeftest(bd,vcovCL,cluster=dta[,c('nat','year')]),coeftest(bt,vcovCL,cluster=dta[,c('nat','year')]),coeftest(bs,vcovCL,cluster=dta[,c('nat','year')]),coeftest(bu,vcovCL,cluster=dta[,c('nat','year')]),title = 'OLS: Channel decomposition',style = 'qje',omit = 'factor',omit.labels = ' Country fixed effects',column.labels = c('bf','bd','bt','bs','bu'),type=output)"
   ]
  },
  {
   "cell_type": "markdown",
   "metadata": {},
   "source": [
    "### Figure 7 \\& 8"
   ]
  },
  {
   "cell_type": "code",
   "execution_count": 15,
   "metadata": {},
   "outputs": [
    {
     "data": {
      "image/png": "[encoded data removed]",
      "text/plain": [
       "Plot with title \"Channel contributions over time (triple interaction estimation, measures at zero)\""
      ]
     },
     "metadata": {
      "image/png": {
       "height": 420,
       "width": 420
      },
      "text/plain": {
       "height": 420,
       "width": 420
      }
     },
     "output_type": "display_data"
    },
    {
     "data": {
      "image/png": "[encoded data removed]",
      "text/plain": [
       "Plot with title \"Channel contributions over time (simple estimation, no covid controll vars)\""
      ]
     },
     "metadata": {
      "image/png": {
       "height": 420,
       "width": 420
      },
      "text/plain": {
       "height": 420,
       "width": 420
      }
     },
     "output_type": "display_data"
    }
   ],
   "source": [
    "# dynamic point of view\n",
    "B=matrix(nrow = 56,ncol = 5) # results with interactions\n",
    "B.s=B                        # results with out controlls\n",
    "for (t in 1:56) {\n",
    "  \n",
    "  s=t-1 # s+1 = starting point in time\n",
    "  f=t+4 # l-1 = end point in time\n",
    " \n",
    "  b=c()\n",
    "  b_f<-glm((gdp-gni)~factor(nat)+ic+gdp*mc*ps,data = dta[dta$pit>s & dta$pit<f,],weights=dta[dta$pit>s & dta$pit<f,]$GDP)\n",
    "  b[1]=b_f$coefficients['gdp']\n",
    "  b_d<-glm((gni-nni)~factor(nat)+ic+gdp*mc*ps,data = dta[dta$pit>s & dta$pit<f,],weights=dta[dta$pit>s & dta$pit<f,]$GDP)\n",
    "  b[2]=b_d$coefficients['gdp']\n",
    "  b_t<-glm((nni-inc)~factor(nat)+ic+gdp*mc*ps,data = dta[dta$pit>s & dta$pit<f,],weights=dta[dta$pit>s & dta$pit<f,]$GDP)\n",
    "  b[3]=b_t$coefficients['gdp']\n",
    "  b_s<-glm((inc-con)~factor(nat)+ic+gdp*mc*ps,data = dta[dta$pit>s & dta$pit<f,],weights=dta[dta$pit>s & dta$pit<f,]$GDP)\n",
    "  b[4]=b_s$coefficients['gdp']\n",
    "  b_u<-glm(con~factor(nat)+ic+gdp*mc*ps,data = dta[dta$pit>s & dta$pit<f,],weights=dta[dta$pit>s & dta$pit<f,]$GDP)\n",
    "  b[5]=b_u$coefficients['gdp']\n",
    "\n",
    "B[t,]=b\n",
    "    \n",
    "  b.s=c()\n",
    "  b.s_f<-glm((gdp-gni)~factor(nat)+gdp,data = dta[dta$pit>s & dta$pit<f,],weights=dta[dta$pit>s & dta$pit<f,]$GDP)\n",
    "  b.s[1]=b.s_f$coefficients['gdp']  \n",
    "  b.s_d<-glm((gni-nni)~factor(nat)+gdp,data = dta[dta$pit>s & dta$pit<f,],weights=dta[dta$pit>s & dta$pit<f,]$GDP)\n",
    "  b.s[2]=b.s_d$coefficients['gdp']\n",
    "  b.s_t<-glm((nni-inc)~factor(nat)+gdp,data = dta[dta$pit>s & dta$pit<f,],weights=dta[dta$pit>s & dta$pit<f,]$GDP)\n",
    "  b.s[3]=b.s_t$coefficients['gdp']\n",
    "  b.s_s<-glm((inc-con)~factor(nat)+gdp,data = dta[dta$pit>s & dta$pit<f,],weights=dta[dta$pit>s & dta$pit<f,]$GDP)\n",
    "  b.s[4]=b.s_s$coefficients['gdp']\n",
    "  b.s_u<-glm(con~factor(nat)+gdp,data = dta[dta$pit>s & dta$pit<f,],weights=dta[dta$pit>s & dta$pit<f,]$GDP)\n",
    "  b.s[5]=b.s_u$coefficients['gdp']\n",
    "  \n",
    "B.s[t,]=b.s\n",
    "  \n",
    "}\n",
    "\n",
    "plot(seq(as.Date(\"2007/1/1\"), as.Date(\"2020/12/31\"), by = \"quarter\"),B[,1],type = 'l',ylab = 'beta',xlab = 'Year',ylim = c(-0.5,1),col = 'blue')\n",
    "lines(seq(as.Date(\"2007/1/1\"), as.Date(\"2020/12/31\"), by = \"quarter\"),B[,2],type = 'l',ylab = 'beta',xlab = 'Year',ylim = c(-0.5,1),col = 'black')\n",
    "lines(seq(as.Date(\"2007/1/1\"), as.Date(\"2020/12/31\"), by = \"quarter\"),B[,3],type = 'l',ylab = 'beta',xlab = 'Year',ylim = c(-0.5,1),col = 'orange')\n",
    "lines(seq(as.Date(\"2007/1/1\"), as.Date(\"2020/12/31\"), by = \"quarter\"),B[,4],type = 'l',ylab = 'beta',xlab = 'Year',ylim = c(-0.5,1),col = 'green')\n",
    "lines(seq(as.Date(\"2007/1/1\"), as.Date(\"2020/12/31\"), by = \"quarter\"),B[,5],type = 'l',ylab = 'beta',xlab = 'Year',ylim = c(-0.5,1),col = 'red')\n",
    "title('Channel contributions over time (triple interaction estimation, measures at zero)')\n",
    "legend(x = c(as.Date(\"2007/1/1\"), as.Date(\"2009/1/1\")), y = c(0.725, 1),legend = c('b_nfi','b_d','b_t','b_s', 'b_u'),col = c('blue','black','orange','green','red'),lty = c(1,1))\n",
    "abline(v=as.Date(\"2009/10/01\"))\n",
    "abline(v=as.Date(\"2020/04/01\"))\n",
    "\n",
    "plot(seq(as.Date(\"2007/1/1\"), as.Date(\"2020/12/31\"), by = \"quarter\"),B.s[,1],type = 'l',ylab = 'beta',xlab = 'Year',ylim = c(-0.5,1),col = 'blue')\n",
    "lines(seq(as.Date(\"2007/1/1\"), as.Date(\"2020/12/31\"), by = \"quarter\"),B.s[,2],type = 'l',ylab = 'beta',xlab = 'Year',ylim = c(-0.5,1),col = 'black')\n",
    "lines(seq(as.Date(\"2007/1/1\"), as.Date(\"2020/12/31\"), by = \"quarter\"),B.s[,3],type = 'l',ylab = 'beta',xlab = 'Year',ylim = c(-0.5,1),col = 'orange')\n",
    "lines(seq(as.Date(\"2007/1/1\"), as.Date(\"2020/12/31\"), by = \"quarter\"),B.s[,4],type = 'l',ylab = 'beta',xlab = 'Year',ylim = c(-0.5,1),col = 'green')\n",
    "lines(seq(as.Date(\"2007/1/1\"), as.Date(\"2020/12/31\"), by = \"quarter\"),B.s[,5],type = 'l',ylab = 'beta',xlab = 'Year',ylim = c(-0.5,1),col = 'red')\n",
    "title('Channel contributions over time (simple estimation, no covid controll vars)')\n",
    "legend(x = c(as.Date(\"2007/1/1\"), as.Date(\"2009/1/1\")), y = c(0.725, 1),legend = c('b_nfi','b_d','b_t','b_s', 'b_u'),col = c('blue','black','orange','green','red'),lty = c(1,1))\n",
    "abline(v=as.Date(\"2009/10/01\"))\n",
    "abline(v=as.Date(\"2020/04/01\"))"
   ]
  },
  {
   "cell_type": "markdown",
   "metadata": {},
   "source": [
    "### Figure 9: Correlation matrix of channel contributions"
   ]
  },
  {
   "cell_type": "code",
   "execution_count": 16,
   "metadata": {},
   "outputs": [
    {
     "data": {
      "image/png": "[encoded data removed]",
      "text/plain": [
       "Plot with title \"\""
      ]
     },
     "metadata": {
      "image/png": {
       "height": 420,
       "width": 420
      },
      "text/plain": {
       "height": 420,
       "width": 420
      }
     },
     "output_type": "display_data"
    }
   ],
   "source": [
    "b.labs=c('b_nfi','b_d','b_t','b_s','b_u')\n",
    "B.s=data.frame(B.s)\n",
    "colnames(B.s)=b.labs\n",
    "chart.Correlation(B.s)"
   ]
  },
  {
   "cell_type": "markdown",
   "metadata": {},
   "source": [
    "### Table 6: OLS: (GDP - GNI) = country fixed effects + incidence + GDP * covid measures * policy support"
   ]
  },
  {
   "cell_type": "code",
   "execution_count": 17,
   "metadata": {},
   "outputs": [
    {
     "name": "stdout",
     "output_type": "stream",
     "text": [
      "\n",
      "OLS: (GDP - GNI) = country fixed effects + incidence + GDP * covid measures * policy support\n",
      "=========================================================================\n",
      "                                                                         \n",
      "                      many foreign workers few foreign workers    all    \n",
      "                              (1)                  (2)            (3)    \n",
      "-------------------------------------------------------------------------\n",
      "ic                          0.944***            -1.978***      -0.793*** \n",
      "                            (0.141)              (0.135)        (0.131)  \n",
      "                                                                         \n",
      "gdp                          0.362*             0.470***        0.402*** \n",
      "                            (0.205)              (0.161)        (0.151)  \n",
      "                                                                         \n",
      "mc                         -0.001***            0.0005***      -0.001*** \n",
      "                            (0.0002)            (0.0001)        (0.0001) \n",
      "                                                                         \n",
      "ps                          0.001***           -0.0004***       0.0002** \n",
      "                            (0.0002)            (0.0001)        (0.0001) \n",
      "                                                                         \n",
      "gdp:mc                     -0.042***            -0.002***      -0.023*** \n",
      "                            (0.009)              (0.001)        (0.006)  \n",
      "                                                                         \n",
      "gdp:ps                       -0.008             -0.019***        -0.002  \n",
      "                            (0.008)              (0.005)        (0.005)  \n",
      "                                                                         \n",
      "mc:ps                       0.00000             0.00001**      0.00001***\n",
      "                           (0.00000)            (0.00000)      (0.00000) \n",
      "                                                                         \n",
      "gdp:mc:ps                   0.001***            0.0004***      0.0004*** \n",
      "                            (0.0002)            (0.0001)        (0.0001) \n",
      "                                                                         \n",
      "Constant                   -0.002***            -0.001***      -0.001*** \n",
      "                            (0.0003)            (0.0002)        (0.0004) \n",
      "                                                                         \n",
      "Country fixed effects         Yes                  Yes            Yes    \n",
      "=========================================================================\n",
      "Notes:                             ***Significant at the 1 percent level.\n",
      "                                    **Significant at the 5 percent level.\n",
      "                                    *Significant at the 10 percent level.\n"
     ]
    }
   ],
   "source": [
    "# split sample based on share of foreigeners in domestic employment / with out denmark due to missing data\n",
    "cb=cb_raw[,is.na(c(cb_raw[1,]))==0&c(cb_raw[1,])!='b']\n",
    "\n",
    "cb_f=cb[cb$...2=='Foreign country',-(1:2)]\n",
    "cb_t=cb[cb$...2=='Total',-(1:2)]\n",
    "\n",
    "sfe=to.num(cb_f)/to.num(cb_t)\n",
    "\n",
    "means_cb<-cbind(names,rowMeans(sfe))\n",
    "cut_off<-mean(rowMeans(sfe[-3,]))\n",
    "sel_cb<-rowMeans(sfe)>cut_off\n",
    "so<-(sel_cb*1:13)[sel_cb]\n",
    "so<-c(na.omit(so))\n",
    "sel_cb<-rowMeans(sfe)<cut_off\n",
    "st<-(sel_cb*1:13)[sel_cb]\n",
    "st<-c(na.omit(st))\n",
    "\n",
    "stargazer(coeftest(lm((gdp-gni)~factor(nat)+ic+gdp*mc*ps,data=dta[dta$nat %in% codes[so],]),vcovCL,cluster=dta[dta$nat %in% codes[so],c('nat','year')]),coeftest(lm((gdp-gni)~factor(nat)+ic+gdp*mc*ps,data=dta[dta$nat %in% codes[st],]),vcovCL,cluster=dta[dta$nat %in% codes[st],c('nat','year')]),coeftest(lm((gdp-gni)~factor(nat)+ic+gdp*mc*ps,data=dta[dta$nat %in% codes[-3],]),vcovCL,cluster=dta[dta$nat %in% codes[-3],c('nat','year')]),type=output,title = 'OLS: (GDP - GNI) = country fixed effects + incidence + GDP * covid measures * policy support',style = 'qje',omit = 'factor',omit.labels = ' Country fixed effects',column.labels = c('many foreign workers','few foreign workers','all'))"
   ]
  },
  {
   "cell_type": "markdown",
   "metadata": {},
   "source": [
    "### Table 7: OLS: (GDP - GNI) = country fixed effects + incidence + covid measures + GDP * share of days with closed borders * policy support"
   ]
  },
  {
   "cell_type": "code",
   "execution_count": 18,
   "metadata": {},
   "outputs": [
    {
     "name": "stdout",
     "output_type": "stream",
     "text": [
      "\n",
      "OLS: (GDP - GNI) = country fixed effects + incidence + covid measures + GDP * share of days with closed borders * policy support\n",
      "========================================================================\n",
      "                                                                        \n",
      "                      many foreign workers few foreign workers    all   \n",
      "                              (1)                  (2)            (3)   \n",
      "------------------------------------------------------------------------\n",
      "ic                           -0.068             -1.953***      -1.150***\n",
      "                                                 (0.131)        (0.095) \n",
      "                                                                        \n",
      "mc                         -0.001***            0.001***        -0.0002 \n",
      "                            (0.0003)            (0.0001)       (0.0002) \n",
      "                                                                        \n",
      "gdp                          0.348*             0.461***       0.385*** \n",
      "                            (0.198)              (0.158)        (0.142) \n",
      "                                                                        \n",
      "dcb                        -0.382***            -0.036**        -0.020  \n",
      "                            (0.087)              (0.014)        (0.017) \n",
      "                                                                        \n",
      "ps                          0.001***            -0.0002**      0.0004***\n",
      "                            (0.0002)            (0.0001)       (0.0001) \n",
      "                                                                        \n",
      "gdp:dcb                    -16.324***             1.013        -1.905***\n",
      "                            (1.288)                             (0.230) \n",
      "                                                                        \n",
      "gdp:ps                       -0.001             0.004***        0.0005  \n",
      "                            (0.003)              (0.001)        (0.001) \n",
      "                                                                        \n",
      "dcb:ps                      0.004***            -0.001***      -0.001***\n",
      "                            (0.001)             (0.0002)       (0.0002) \n",
      "                                                                        \n",
      "gdp:dcb:ps                  0.204***            -0.053**         0.018  \n",
      "                            (0.017)              (0.023)                \n",
      "                                                                        \n",
      "Constant                    -0.003**             -0.0003       -0.002***\n",
      "                            (0.001)              (0.001)       (0.0004) \n",
      "                                                                        \n",
      "Country fixed effects         Yes                  Yes            Yes   \n",
      "========================================================================\n",
      "Notes:                            ***Significant at the 1 percent level.\n",
      "                                   **Significant at the 5 percent level.\n",
      "                                   *Significant at the 10 percent level.\n"
     ]
    }
   ],
   "source": [
    "dcb<-dcb_raw[dcb_raw$country_name %in% names,]   # here alphabetical ordering becomes importand\n",
    "dcb.2020<-dcb[, -grep(\"2021\", colnames(dcb))]\n",
    "\n",
    "dcb.q1<-rowMeans(dcb.2020[,c(grep(\"Jan\", colnames(dcb.2020)),grep(\"Feb\", colnames(dcb.2020)),grep(\"Mar\", colnames(dcb.2020)))]==4)\n",
    "dcb.q2<-rowMeans(dcb.2020[,c(grep(\"Apr\", colnames(dcb.2020)),grep(\"May\", colnames(dcb.2020)),grep(\"Jun\", colnames(dcb.2020)))]==4)\n",
    "dcb.q3<-rowMeans(dcb.2020[,c(grep(\"Jul\", colnames(dcb.2020)),grep(\"Aug\", colnames(dcb.2020)),grep(\"Sep\", colnames(dcb.2020)))]==4)\n",
    "dcb.q4<-rowMeans(dcb.2020[,c(grep(\"Oct\", colnames(dcb.2020)),grep(\"Nov\", colnames(dcb.2020)),grep(\"Dec\", colnames(dcb.2020)))]==4)\n",
    "\n",
    "dta$dcb=0\n",
    "\n",
    "k=0\n",
    "for (i in codes[1:obs]) {\n",
    "  k=k+1\n",
    "  dta[dta$nat==i & dta$pit==56,'dcb']=dcb.q1[k]\n",
    "  dta[dta$nat==i & dta$pit==57,'dcb']=dcb.q2[k]\n",
    "  dta[dta$nat==i & dta$pit==58,'dcb']=dcb.q3[k]\n",
    "  dta[dta$nat==i & dta$pit==59,'dcb']=dcb.q4[k]\n",
    "}\n",
    "\n",
    "stargazer(coeftest(lm((gdp-gni)~factor(nat)+ic+mc+gdp*dcb*ps,data=dta[dta$nat %in% codes[so],]),vcovCL,cluster=dta[dta$nat %in% codes[so],c('nat','year')]),coeftest(lm((gdp-gni)~factor(nat)+ic+mc+gdp*dcb*ps,data=dta[dta$nat %in% codes[st],]),vcovCL,cluster=dta[dta$nat %in% codes[st],c('nat','year')]),coeftest(lm((gdp-gni)~factor(nat)+ic+mc+gdp*dcb*ps,data=dta),vcovCL,cluster=dta[,c('nat','year')]),type=output,title = 'OLS: (GDP - GNI) = country fixed effects + incidence + covid measures + GDP * share of days with closed borders * policy support',style = 'qje',omit = 'factor',omit.labels = ' Country fixed effects',column.labels = c('many foreign workers','few foreign workers','all'))"
   ]
  },
  {
   "cell_type": "code",
   "execution_count": 19,
   "metadata": {},
   "outputs": [
    {
     "data": {
      "text/plain": [
       "\n",
       "Call:\n",
       "lm(formula = ii ~ factor(gd), data = dta.rt)\n",
       "\n",
       "Residuals:\n",
       "    Min      1Q  Median      3Q     Max \n",
       "-6.3064 -0.3938  0.5962  1.3294  5.8121 \n",
       "\n",
       "Coefficients:\n",
       "               Estimate Std. Error t value Pr(>|t|)    \n",
       "(Intercept)    -0.64320    0.11385  -5.649 2.29e-08 ***\n",
       "factor(gd)TRUE  0.01114    0.16505   0.067    0.946    \n",
       "---\n",
       "Signif. codes:  0 '***' 0.001 '**' 0.01 '*' 0.05 '.' 0.1 ' ' 1\n",
       "\n",
       "Residual standard error: 2.248 on 742 degrees of freedom\n",
       "  (23 observations deleted due to missingness)\n",
       "Multiple R-squared:  6.136e-06,\tAdjusted R-squared:  -0.001342 \n",
       "F-statistic: 0.004553 on 1 and 742 DF,  p-value: 0.9462\n"
      ]
     },
     "metadata": {},
     "output_type": "display_data"
    }
   ],
   "source": [
    "# are we really seeing the effect of foreigner employment or correlation of foreigner employment with investment??? \n",
    "# yes, net international investment is not significantly different for the two groups / remark: not only net position matters in this context\n",
    "\n",
    "dta.rt=dta\n",
    "intinv<-intinv_raw[intinv_raw$`Data extracted on 28/06/2021 10:40:16 from [ESTAT]` %in% c(names,'TIME'),]\n",
    "cols=c(1,2)\n",
    "for(t in 2006:2020){\n",
    "  cols=c(cols,grep(toString(t), intinv[1,]))\n",
    "}\n",
    "intinv=intinv[,cols]\n",
    "dta.rt$ii=NA\n",
    "for(r in 1:13){\n",
    "  assign(paste('ii',intinv$`Data extracted on 28/06/2021 10:40:16 from [ESTAT]`[r+1],sep = '_'),intinv[r+1,-c(1:3)])\n",
    "}\n",
    "\n",
    "for(r in 1:13){\n",
    "  n<-names[r]\n",
    "  c<-codes[r]\n",
    "  dta.rt$ii[dta.rt$nat==c]=get(paste('ii',n,sep = '_'))\n",
    "}\n",
    "\n",
    "dta.rt$ii=as.numeric(dta.rt$ii)/as.numeric(dta.rt$Gdp)\n",
    "\n",
    "dta.rt$gd=dta.rt$nat %in% codes[so]\n",
    "summary(lm(ii~factor(gd),data=dta.rt)) # in terms of a simple regression SE neither HC robust nor clustered implies here a more conservative approach"
   ]
  },
  {
   "cell_type": "markdown",
   "metadata": {},
   "source": [
    "### calculate permanent and transitory component and add them to data frame"
   ]
  },
  {
   "cell_type": "code",
   "execution_count": 20,
   "metadata": {},
   "outputs": [
    {
     "data": {
      "text/html": [
       "<table>\n",
       "<caption>A data.frame: 6 × 12</caption>\n",
       "<thead>\n",
       "\t<tr><th></th><th scope=col>pit</th><th scope=col>nat</th><th scope=col>con</th><th scope=col>gdp.p</th><th scope=col>gdp</th><th scope=col>gdp.t</th><th scope=col>mc</th><th scope=col>ps</th><th scope=col>ic</th><th scope=col>sh</th><th scope=col>year</th><th scope=col>inc</th></tr>\n",
       "\t<tr><th></th><th scope=col>&lt;int&gt;</th><th scope=col>&lt;fct&gt;</th><th scope=col>&lt;dbl&gt;</th><th scope=col>&lt;dbl&gt;</th><th scope=col>&lt;dbl&gt;</th><th scope=col>&lt;dbl&gt;</th><th scope=col>&lt;dbl&gt;</th><th scope=col>&lt;dbl&gt;</th><th scope=col>&lt;dbl&gt;</th><th scope=col>&lt;dbl&gt;</th><th scope=col>&lt;dbl&gt;</th><th scope=col>&lt;dbl&gt;</th></tr>\n",
       "</thead>\n",
       "<tbody>\n",
       "\t<tr><th scope=row>55</th><td>55</td><td>au</td><td>-0.0038000329</td><td>-0.003184326</td><td>-0.006531381</td><td>-0.003347055</td><td>18.76231</td><td>14.14835</td><td>0.0011491431</td><td>0.1758242</td><td>2020</td><td>-0.05709470</td></tr>\n",
       "\t<tr><th scope=row>56</th><td>56</td><td>au</td><td>-0.0009165346</td><td>-0.005694353</td><td>-0.015954402</td><td>-0.010260050</td><td>63.13538</td><td>87.50000</td><td>0.0008563261</td><td>0.3296703</td><td>2020</td><td> 0.04242925</td></tr>\n",
       "\t<tr><th scope=row>57</th><td>57</td><td>au</td><td> 0.0029092073</td><td>-0.004257959</td><td> 0.023425864</td><td> 0.027683823</td><td>38.04217</td><td>87.50000</td><td>0.0030531309</td><td>0.0000000</td><td>2020</td><td>-0.01098804</td></tr>\n",
       "\t<tr><th scope=row>58</th><td>58</td><td>au</td><td>-0.0277297356</td><td>-0.009745907</td><td>-0.025703276</td><td>-0.015957369</td><td>68.18804</td><td>96.46739</td><td>0.0356710719</td><td>0.8260870</td><td>2020</td><td>-0.01406840</td></tr>\n",
       "\t<tr><th scope=row>113</th><td>55</td><td>be</td><td>-0.0237952756</td><td>-0.011749940</td><td>-0.010407625</td><td> 0.001342315</td><td>20.61429</td><td>18.13187</td><td>0.0011151830</td><td>0.1538462</td><td>2020</td><td>-0.05873553</td></tr>\n",
       "\t<tr><th scope=row>114</th><td>56</td><td>be</td><td>-0.0091190231</td><td>-0.011134445</td><td>-0.028249645</td><td>-0.017115201</td><td>71.75297</td><td>87.50000</td><td>0.0042470359</td><td>0.7472527</td><td>2020</td><td> 0.01135441</td></tr>\n",
       "</tbody>\n",
       "</table>\n"
      ],
      "text/latex": [
       "A data.frame: 6 × 12\n",
       "\\begin{tabular}{r|llllllllllll}\n",
       "  & pit & nat & con & gdp.p & gdp & gdp.t & mc & ps & ic & sh & year & inc\\\\\n",
       "  & <int> & <fct> & <dbl> & <dbl> & <dbl> & <dbl> & <dbl> & <dbl> & <dbl> & <dbl> & <dbl> & <dbl>\\\\\n",
       "\\hline\n",
       "\t55 & 55 & au & -0.0038000329 & -0.003184326 & -0.006531381 & -0.003347055 & 18.76231 & 14.14835 & 0.0011491431 & 0.1758242 & 2020 & -0.05709470\\\\\n",
       "\t56 & 56 & au & -0.0009165346 & -0.005694353 & -0.015954402 & -0.010260050 & 63.13538 & 87.50000 & 0.0008563261 & 0.3296703 & 2020 &  0.04242925\\\\\n",
       "\t57 & 57 & au &  0.0029092073 & -0.004257959 &  0.023425864 &  0.027683823 & 38.04217 & 87.50000 & 0.0030531309 & 0.0000000 & 2020 & -0.01098804\\\\\n",
       "\t58 & 58 & au & -0.0277297356 & -0.009745907 & -0.025703276 & -0.015957369 & 68.18804 & 96.46739 & 0.0356710719 & 0.8260870 & 2020 & -0.01406840\\\\\n",
       "\t113 & 55 & be & -0.0237952756 & -0.011749940 & -0.010407625 &  0.001342315 & 20.61429 & 18.13187 & 0.0011151830 & 0.1538462 & 2020 & -0.05873553\\\\\n",
       "\t114 & 56 & be & -0.0091190231 & -0.011134445 & -0.028249645 & -0.017115201 & 71.75297 & 87.50000 & 0.0042470359 & 0.7472527 & 2020 &  0.01135441\\\\\n",
       "\\end{tabular}\n"
      ],
      "text/markdown": [
       "\n",
       "A data.frame: 6 × 12\n",
       "\n",
       "| <!--/--> | pit &lt;int&gt; | nat &lt;fct&gt; | con &lt;dbl&gt; | gdp.p &lt;dbl&gt; | gdp &lt;dbl&gt; | gdp.t &lt;dbl&gt; | mc &lt;dbl&gt; | ps &lt;dbl&gt; | ic &lt;dbl&gt; | sh &lt;dbl&gt; | year &lt;dbl&gt; | inc &lt;dbl&gt; |\n",
       "|---|---|---|---|---|---|---|---|---|---|---|---|---|\n",
       "| 55 | 55 | au | -0.0038000329 | -0.003184326 | -0.006531381 | -0.003347055 | 18.76231 | 14.14835 | 0.0011491431 | 0.1758242 | 2020 | -0.05709470 |\n",
       "| 56 | 56 | au | -0.0009165346 | -0.005694353 | -0.015954402 | -0.010260050 | 63.13538 | 87.50000 | 0.0008563261 | 0.3296703 | 2020 |  0.04242925 |\n",
       "| 57 | 57 | au |  0.0029092073 | -0.004257959 |  0.023425864 |  0.027683823 | 38.04217 | 87.50000 | 0.0030531309 | 0.0000000 | 2020 | -0.01098804 |\n",
       "| 58 | 58 | au | -0.0277297356 | -0.009745907 | -0.025703276 | -0.015957369 | 68.18804 | 96.46739 | 0.0356710719 | 0.8260870 | 2020 | -0.01406840 |\n",
       "| 113 | 55 | be | -0.0237952756 | -0.011749940 | -0.010407625 |  0.001342315 | 20.61429 | 18.13187 | 0.0011151830 | 0.1538462 | 2020 | -0.05873553 |\n",
       "| 114 | 56 | be | -0.0091190231 | -0.011134445 | -0.028249645 | -0.017115201 | 71.75297 | 87.50000 | 0.0042470359 | 0.7472527 | 2020 |  0.01135441 |\n",
       "\n"
      ],
      "text/plain": [
       "    pit nat con           gdp.p        gdp          gdp.t        mc      \n",
       "55  55  au  -0.0038000329 -0.003184326 -0.006531381 -0.003347055 18.76231\n",
       "56  56  au  -0.0009165346 -0.005694353 -0.015954402 -0.010260050 63.13538\n",
       "57  57  au   0.0029092073 -0.004257959  0.023425864  0.027683823 38.04217\n",
       "58  58  au  -0.0277297356 -0.009745907 -0.025703276 -0.015957369 68.18804\n",
       "113 55  be  -0.0237952756 -0.011749940 -0.010407625  0.001342315 20.61429\n",
       "114 56  be  -0.0091190231 -0.011134445 -0.028249645 -0.017115201 71.75297\n",
       "    ps       ic           sh        year inc        \n",
       "55  14.14835 0.0011491431 0.1758242 2020 -0.05709470\n",
       "56  87.50000 0.0008563261 0.3296703 2020  0.04242925\n",
       "57  87.50000 0.0030531309 0.0000000 2020 -0.01098804\n",
       "58  96.46739 0.0356710719 0.8260870 2020 -0.01406840\n",
       "113 18.13187 0.0011151830 0.1538462 2020 -0.05873553\n",
       "114 87.50000 0.0042470359 0.7472527 2020  0.01135441"
      ]
     },
     "metadata": {},
     "output_type": "display_data"
    }
   ],
   "source": [
    "##########################################################################################\n",
    "########################## get permanent component of gdp ################################\n",
    "##########################################################################################\n",
    "\n",
    "l.gdp_tot=rep(0,60)\n",
    "\n",
    "for (i in codes) { # log gdp levels seasonal and calendar adjusted\n",
    "  assign(paste(\"l.gdp\",i,sep=\"_\"),get(i)[get(i)$Indicator==row_gdp & is.na(get(i)$`Reference year`)==0,][2,][7:66])\n",
    "  l.gdp_tot=l.gdp_tot+get(paste(\"l.gdp\",i,sep=\"_\"))\n",
    "  assign(paste(\"l.gdp\",i,sep=\"_\"),as.ts(log(t(get(paste(\"l.gdp\",i,sep=\"_\")))),frequency=4,start=c(2006,1),end=c(2020,4)))\n",
    "  assign(paste('ar',i,sep = '_'),arima(get(paste(\"l.gdp\",i,sep=\"_\")),order= c(1,1,0),include.mean = FALSE))\n",
    "}\n",
    "\n",
    "l.gdp_tot=as.ts(log(t(l.gdp_tot)),start=c(2006,1),end=c(2020,4))\n",
    "ar_tot=arima(l.gdp_tot,order = c(1,1,0),include.mean = FALSE  )\n",
    "\n",
    "\n",
    "l.con_tot=rep(0,60)\n",
    "\n",
    "for (i in codes) { # log con levels seasonal and calendar adjusted\n",
    "  assign(paste(\"l.con\",i,sep=\"_\"),get(i)[get(i)$Indicator==row_con & is.na(get(i)$`Reference year`)==0,][2,][7:66])\n",
    "  l.con_tot=l.con_tot+get(paste(\"l.con\",i,sep=\"_\"))\n",
    "  assign(paste(\"l.con\",i,sep=\"_\"),as.ts(log(t(get(paste(\"l.con\",i,sep=\"_\")))),frequency=4,start=c(2006,1),end=c(2020,4)))\n",
    "}\n",
    "\n",
    "l.con_tot=as.ts(log(t(l.con_tot)),start=c(2006,1),end=c(2020,4))\n",
    "\n",
    "\n",
    "for (i in c(codes,'tot')){\n",
    "  gdp=diff(get(paste(\"l.gdp\",i,sep=\"_\")))\n",
    "  GDP=diff(l.gdp_tot)\n",
    "  con=diff(get(paste(\"l.con\",i,sep=\"_\")))\n",
    "  CON=diff(get(paste(\"l.con\",i,sep=\"_\"))-l.con_tot)\n",
    "  \n",
    "  assign(paste('X',i,sep = '_'),ts.intersect(gdp,GDP,CON))\n",
    "}\n",
    "\n",
    "for (i in c(codes,'tot')){\n",
    "  assign(paste('A',i,sep = '_'),Bcoef(VAR(get(paste('X',i,sep = '_')),type = 'none')))\n",
    "  assign(paste('a',i,sep = '_'),cbind(c(get(paste('ar',i,sep = '_'))$coef,0),c(0,ar_tot$coef)))\n",
    "}\n",
    "\n",
    "################# actual calculation of perm gdp comp ########################\n",
    "\n",
    "r=0.02\n",
    "\n",
    "for (i in codes) {\n",
    "  helper=NaN*(1:59)\n",
    "  for (z in 1:59) {\n",
    "    helper[z]=get(paste('l.gdp',i,sep='_'))[z+1]-l.gdp_tot[z+1]+E(get(paste('A',i,sep = '_')),get(paste('X',i,sep = '_'))[z,],r)\n",
    "  }\n",
    "assign(paste('gdp.p',i,sep='_'),diff(helper))\n",
    "}\n",
    " \n",
    "################ get data together in a data frame ###########################\n",
    "\n",
    "t=length(get(paste('gdp.p',codes[1],sep='_')))\n",
    "dta.p<-data.frame(pit=1:t,'nat'=rep(codes[1],t),'con'=diff(get(paste('l.con',codes[1],sep='_')))[-1]-diff(l.con_tot)[-1],'gdp.p'=get(paste('gdp.p',codes[1],sep='_')),'gdp'=diff(get(paste('l.gdp',codes[1],sep='_')))[-1]-diff(l.gdp_tot)[-1])\n",
    "\n",
    "for (i in 2:obs) {\n",
    "  tmp=data.frame(pit=1:t,'nat'=rep(codes[i],t),'con'=diff(get(paste('l.con',codes[i],sep='_')))[-1]-diff(l.con_tot)[-1],'gdp.p'=get(paste('gdp.p',codes[i],sep='_')),'gdp'=diff(get(paste('l.gdp',codes[i],sep='_')))[-1]-diff(l.gdp_tot)[-1])\n",
    "  dta.p=rbind(dta.p,tmp)\n",
    "}\n",
    "\n",
    "dta.p$gdp.t=dta.p$gdp-dta.p$gdp.p\n",
    "\n",
    "# adding the control variables\n",
    "\n",
    "c.dta=dta[dta$pit!=1,]\n",
    "# c.dta$nat==dta.p$nat #if change in sample please make sure that here only 'trues' appear ##user \n",
    "dta.p.c=data.frame(dta.p,'mc'=c.dta$mc,'ps'=c.dta$ps,'ic'=c.dta$ic,'sh'=c.dta$sh)\n",
    "\n",
    "dta.p.c=data.frame(dta.p.c,'year'=year(dta.p.c$pit,start = 2006,sq=2))\n",
    "\n",
    "# adding income\n",
    "\n",
    "dta.p.c=data.frame(dta.p.c,'inc'=c.dta$inc)\n",
    "\n",
    "# show head of 2020 subset of df\n",
    "\n",
    "head(dta.p.c[dta.p.c$year==2020,])"
   ]
  },
  {
   "cell_type": "markdown",
   "metadata": {},
   "source": [
    "### Table 8: OLS: Consumption = country fixed effects + incidence + GDP component * covid measures * policy support"
   ]
  },
  {
   "cell_type": "code",
   "execution_count": 21,
   "metadata": {},
   "outputs": [
    {
     "name": "stdout",
     "output_type": "stream",
     "text": [
      "\n",
      "OLS: Consumption = country fixed effects + incidence + GDP component * covid measures * policy support\n",
      "==============================================================\n",
      "                                                              \n",
      "                          total       permanent    transitory \n",
      "                           (1)           (2)          (3)     \n",
      "--------------------------------------------------------------\n",
      "gdp                     0.485***      0.374***     -0.418***  \n",
      "                         (0.131)       (0.047)      (0.060)   \n",
      "                                                              \n",
      "mc                      0.0002***     0.0002***    0.0002***  \n",
      "                        (0.0001)      (0.00005)    (0.00004)  \n",
      "                                                              \n",
      "ps                       0.0001        0.0002*     0.0004***  \n",
      "                        (0.0001)      (0.0001)      (0.0001)  \n",
      "                                                              \n",
      "ic                      -0.347***     -0.399***      -0.110   \n",
      "                         (0.074)       (0.075)      (0.100)   \n",
      "                                                              \n",
      "gdp:mc                   0.012**      0.020***      0.029***  \n",
      "                         (0.005)       (0.003)      (0.003)   \n",
      "                                                              \n",
      "gdp:ps                   -0.011         0.008       0.003***  \n",
      "                         (0.007)       (0.005)      (0.001)   \n",
      "                                                              \n",
      "mc:ps                  -0.00000***   -0.00000***  -0.00001*** \n",
      "                        (0.00000)     (0.00000)    (0.00000)  \n",
      "                                                              \n",
      "gdp:mc:ps                0.00003     -0.0003***    -0.0002*** \n",
      "                        (0.0001)      (0.0001)     (0.00003)  \n",
      "                                                              \n",
      "Constant                -0.001***     -0.001***    -0.001***  \n",
      "                        (0.0002)      (0.0002)      (0.0003)  \n",
      "                                                              \n",
      "Country fixed effects      Yes           Yes          Yes     \n",
      "==============================================================\n",
      "Notes:                  ***Significant at the 1 percent level.\n",
      "                         **Significant at the 5 percent level.\n",
      "                         *Significant at the 10 percent level.\n"
     ]
    }
   ],
   "source": [
    "perm.c<-lm(con~factor(nat)+gdp.p*mc*ps+ic,data = dta.p.c)\n",
    "tran.c<-lm(con~factor(nat)+gdp.t*mc*ps+ic,data = dta.p.c)\n",
    "norm.c<-lm(con~factor(nat)+gdp*mc*ps+ic,data = dta.p.c)\n",
    "tot=coeftest(norm.c,vcovCL,cluster=dta.p.c[,c('nat','year')])\n",
    "per=coeftest(perm.c,vcovCL,cluster=dta.p.c[,c('nat','year')])\n",
    "tra=coeftest(tran.c,vcovCL,cluster=dta.p.c[,c('nat','year')])\n",
    "rownames(per)=rownames(tot)\n",
    "rownames(tra)=rownames(tot)\n",
    "stargazer(tot,per,tra,type = output,title = 'OLS: Consumption = country fixed effects + incidence + GDP component * covid measures * policy support',style = 'qje',omit = 'factor',omit.labels = ' Country fixed effects',column.labels = c('total','permanent','transitory'))\n"
   ]
  },
  {
   "cell_type": "markdown",
   "metadata": {},
   "source": [
    "### Table 9: OLS: Disposable Income = country fixed effects + incidence + GDP component * covid measures * policy support"
   ]
  },
  {
   "cell_type": "code",
   "execution_count": 22,
   "metadata": {},
   "outputs": [
    {
     "name": "stdout",
     "output_type": "stream",
     "text": [
      "\n",
      "OLS: Disposable Income = country fixed effects + incidence + GDP component * covid measures * policy support\n",
      "==============================================================\n",
      "                                                              \n",
      "                          total       permanent    transitory \n",
      "                           (1)           (2)          (3)     \n",
      "--------------------------------------------------------------\n",
      "gdp                     0.769***      0.530***       -0.401   \n",
      "                         (0.213)       (0.045)                \n",
      "                                                              \n",
      "mc                       0.0003        0.0003        0.0001   \n",
      "                        (0.0002)      (0.0002)      (0.0002)  \n",
      "                                                              \n",
      "ps                       0.0002       -0.00002       0.0001   \n",
      "                        (0.0002)      (0.0001)      (0.0001)  \n",
      "                                                              \n",
      "ic                        0.206         0.268       0.375**   \n",
      "                         (0.169)       (0.178)      (0.176)   \n",
      "                                                              \n",
      "gdp:mc                   0.030**      0.045***       0.023    \n",
      "                         (0.014)       (0.008)      (0.016)   \n",
      "                                                              \n",
      "gdp:ps                    0.008        -0.005        0.007    \n",
      "                         (0.011)       (0.008)                \n",
      "                                                              \n",
      "mc:ps                   -0.00001*     -0.00000      -0.00000  \n",
      "                        (0.00000)     (0.00000)    (0.00000)  \n",
      "                                                              \n",
      "gdp:mc:ps               -0.001**      -0.001***     -0.0003   \n",
      "                        (0.0003)      (0.0001)      (0.0002)  \n",
      "                                                              \n",
      "Constant                  0.001        0.001**       0.001    \n",
      "                         (0.001)      (0.0005)      (0.001)   \n",
      "                                                              \n",
      "Country fixed effects      Yes           Yes          Yes     \n",
      "==============================================================\n",
      "Notes:                  ***Significant at the 1 percent level.\n",
      "                         **Significant at the 5 percent level.\n",
      "                         *Significant at the 10 percent level.\n"
     ]
    }
   ],
   "source": [
    "perm.i<-lm(inc~factor(nat)+gdp.p*mc*ps+ic,data = dta.p.c)\n",
    "tran.i<-lm(inc~factor(nat)+gdp.t*mc*ps+ic,data = dta.p.c)\n",
    "norm.i<-lm(inc~factor(nat)+gdp*mc*ps+ic,data = dta.p.c)\n",
    "toti=coeftest(norm.i,vcovCL,cluster=dta.p.c[,c('nat','year')])\n",
    "peri=coeftest(perm.i,vcovCL,cluster=dta.p.c[,c('nat','year')])\n",
    "trai=coeftest(tran.i,vcovCL,cluster=dta.p.c[,c('nat','year')])\n",
    "rownames(peri)=rownames(toti)\n",
    "rownames(trai)=rownames(toti)\n",
    "stargazer(toti,peri,trai,type = output,title = 'OLS: Disposable Income = country fixed effects + incidence + GDP component * covid measures * policy support',style = 'qje',omit = 'factor',omit.labels = ' Country fixed effects',column.labels = c('total','permanent','transitory'))"
   ]
  },
  {
   "cell_type": "markdown",
   "metadata": {},
   "source": [
    "### Figure 10"
   ]
  },
  {
   "cell_type": "code",
   "execution_count": 23,
   "metadata": {},
   "outputs": [
    {
     "data": {
      "image/png": "[encoded data removed]",
      "text/plain": [
       "Plot with title \"beta_u (red), beta_perm (blue) and beta_tran (yellow)\""
      ]
     },
     "metadata": {
      "image/png": {
       "height": 420,
       "width": 420
      },
      "text/plain": {
       "height": 420,
       "width": 420
      }
     },
     "output_type": "display_data"
    }
   ],
   "source": [
    "b.perm=c()\n",
    "b.tran=c()\n",
    "b.norm=c()\n",
    "for(i in 4:58){\n",
    "  reg.norm<-lm(con~factor(nat)+gdp,data = dta.p[dta.p$pit %in% (i-3):i,])\n",
    "  b.norm[i-3]=reg.norm$coefficients['gdp']\n",
    "  reg.perm<-lm(con~factor(nat)+gdp.p,data = dta.p[dta.p$pit %in% (i-3):i,])\n",
    "  b.perm[i-3]=reg.perm$coefficients['gdp.p']\n",
    "  reg.tran<-lm(con~factor(nat)+gdp.t,data = dta.p[dta.p$pit %in% (i-3):i,])\n",
    "  b.tran[i-3]=reg.tran$coefficients['gdp.t']\n",
    "}\n",
    "\n",
    "plot(seq(as.Date(\"2007/4/1\"), as.Date(\"2020/12/31\"), by = \"quarter\"),b.norm,type='b',col='red',ylim=c(-1,1),xlab='Time',ylab='beta')\n",
    "lines(seq(as.Date(\"2007/4/1\"), as.Date(\"2020/12/31\"), by = \"quarter\"),b.perm,type = 'b',col = 'blue')\n",
    "lines(seq(as.Date(\"2007/4/1\"), as.Date(\"2020/12/31\"), by = \"quarter\"),b.tran,type = 'b',col='yellow')\n",
    "title('beta_u (red), beta_perm (blue) and beta_tran (yellow)')"
   ]
  },
  {
   "cell_type": "markdown",
   "metadata": {},
   "source": [
    "### Table 13: OLS: Disposable Income = country fixed effects + incidence + GDP component * stay home requirements * policy support"
   ]
  },
  {
   "cell_type": "code",
   "execution_count": 24,
   "metadata": {},
   "outputs": [
    {
     "name": "stdout",
     "output_type": "stream",
     "text": [
      "\n",
      "OLS: Disposable Income = country fixed effects + incidence + GDP component * stay home requirements * policy support\n",
      "==============================================================\n",
      "                                                              \n",
      "                          total       permanent    transitory \n",
      "                           (1)           (2)          (3)     \n",
      "--------------------------------------------------------------\n",
      "gdp                     0.920***      0.519***       -0.243   \n",
      "                         (0.249)       (0.044)      (0.234)   \n",
      "                                                              \n",
      "sh                        0.018        -0.018        -0.026   \n",
      "                         (0.024)       (0.027)      (0.026)   \n",
      "                                                              \n",
      "ps                       0.0001*      0.0001***     0.00003   \n",
      "                        (0.00004)     (0.00002)    (0.00004)  \n",
      "                                                              \n",
      "ic                      0.805***      0.633***      0.774***  \n",
      "                         (0.207)       (0.209)      (0.211)   \n",
      "                                                              \n",
      "gdp:sh                    1.644       8.304***       -4.823   \n",
      "                         (1.469)       (1.189)                \n",
      "                                                              \n",
      "gdp:ps                   -0.0001      0.019***       0.013    \n",
      "                         (0.005)       (0.002)                \n",
      "                                                              \n",
      "sh:ps                   -0.001***      -0.0004      -0.0001   \n",
      "                        (0.0003)      (0.0003)      (0.0004)  \n",
      "                                                              \n",
      "gdp:sh:ps               -0.061***     -0.168***      0.027    \n",
      "                         (0.023)       (0.020)                \n",
      "                                                              \n",
      "Constant                -0.00005        0.001        0.001    \n",
      "                         (0.001)       (0.001)      (0.001)   \n",
      "                                                              \n",
      "Country fixed effects      Yes           Yes          Yes     \n",
      "==============================================================\n",
      "Notes:                  ***Significant at the 1 percent level.\n",
      "                         **Significant at the 5 percent level.\n",
      "                         *Significant at the 10 percent level.\n"
     ]
    }
   ],
   "source": [
    "# stay home in perm component for europe # attenton difference between personal and disposable income\n",
    "\n",
    "perm.sh<-lm(inc~factor(nat)+gdp.p*sh*ps+ic,data = dta.p.c)\n",
    "tran.sh<-lm(inc~factor(nat)+gdp.t*sh*ps+ic,data = dta.p.c)\n",
    "norm.sh<-lm(inc~factor(nat)+gdp*sh*ps+ic,data = dta.p.c)\n",
    "totsh=coeftest(norm.sh,vcovCL,cluster=dta.p.c[,c('nat','year')])\n",
    "persh=coeftest(perm.sh,vcovCL,cluster=dta.p.c[,c('nat','year')])\n",
    "trash=coeftest(tran.sh,vcovCL,cluster=dta.p.c[,c('nat','year')])\n",
    "rownames(persh)=rownames(totsh)\n",
    "rownames(trash)=rownames(totsh)\n",
    "stargazer(totsh,persh,trash,type = output,title = 'OLS: Disposable Income = country fixed effects + incidence + GDP component * stay home requirements * policy support',style = 'qje',omit = 'factor',omit.labels = ' Country fixed effects',column.labels = c('total','permanent','transitory'))\n"
   ]
  },
  {
   "cell_type": "markdown",
   "metadata": {},
   "source": [
    "### Figure 12: constant expectation parameters vs breaks (a) \\& (b)"
   ]
  },
  {
   "cell_type": "code",
   "execution_count": 25,
   "metadata": {},
   "outputs": [
    {
     "data": {
      "image/png": "[encoded data removed]",
      "text/plain": [
       "Plot with title \"beta_u (red), beta_perm (blue) and beta_tran (yellow)\""
      ]
     },
     "metadata": {
      "image/png": {
       "height": 420,
       "width": 420
      },
      "text/plain": {
       "height": 420,
       "width": 420
      }
     },
     "output_type": "display_data"
    }
   ],
   "source": [
    "# VAR for different intervalls - 2013 break\n",
    "\n",
    "s=2\n",
    "e=30\n",
    "for (z in 1:2) {\n",
    "\n",
    "for (i in c(codes,'tot')){\n",
    "  assign(paste('A',i,z,sep = '_'),Bcoef(VAR(window(get(paste('X',i,sep = '_')),start = s,end = e),type = 'none')))\n",
    "}\n",
    "s=s+29\n",
    "e=e+30\n",
    "}\n",
    "\n",
    "################# actual calculation of perm gdp comp ########################\n",
    "\n",
    "r=0.02\n",
    "\n",
    "for (i in codes) {\n",
    "  helper=NaN*(1:59)\n",
    "  for (z in 1:59) {\n",
    "    if(z>29){h=2}\n",
    "    else(h=1) # decide which AR coefficients are used\n",
    "    helper[z]=get(paste('l.gdp',i,sep='_'))[z+1]-l.gdp_tot[z+1]+E(get(paste('A',i,h,sep = '_')),get(paste('X',i,sep = '_'))[z,],r)\n",
    "  }\n",
    "assign(paste('gdp.p',i,sep='_'),diff(helper))\n",
    "}\n",
    " \n",
    "################ get data together in a data frame ###########################\n",
    "\n",
    "t=length(get(paste('gdp.p',codes[1],sep='_')))\n",
    "dta.p<-data.frame(pit=1:t,'nat'=rep(codes[1],t),'con'=diff(get(paste('l.con',codes[1],sep='_')))[-1]-diff(l.con_tot)[-1],'gdp.p'=get(paste('gdp.p',codes[1],sep='_')),'gdp'=diff(get(paste('l.gdp',codes[1],sep='_')))[-1]-diff(l.gdp_tot)[-1])\n",
    "\n",
    "for (i in 2:obs) {\n",
    "  tmp=data.frame(pit=1:t,'nat'=rep(codes[i],t),'con'=diff(get(paste('l.con',codes[i],sep='_')))[-1]-diff(l.con_tot)[-1],'gdp.p'=get(paste('gdp.p',codes[i],sep='_')),'gdp'=diff(get(paste('l.gdp',codes[i],sep='_')))[-1]-diff(l.gdp_tot)[-1])\n",
    "  dta.p=rbind(dta.p,tmp)\n",
    "}\n",
    "\n",
    "dta.p$gdp.t=dta.p$gdp-dta.p$gdp.p\n",
    "\n",
    "b.perm=c()\n",
    "b.tran=c()\n",
    "b.norm=c()\n",
    "for(i in 4:58){\n",
    "  reg.norm<-lm(con~factor(nat)+gdp,data = dta.p[dta.p$pit %in% (i-3):i,])\n",
    "  b.norm[i-3]=reg.norm$coefficients['gdp']\n",
    "  reg.perm<-lm(con~factor(nat)+gdp.p,data = dta.p[dta.p$pit %in% (i-3):i,])\n",
    "  b.perm[i-3]=reg.perm$coefficients['gdp.p']\n",
    "  reg.tran<-lm(con~factor(nat)+gdp.t,data = dta.p[dta.p$pit %in% (i-3):i,])\n",
    "  b.tran[i-3]=reg.tran$coefficients['gdp.t']\n",
    "}\n",
    "\n",
    "plot(seq(as.Date(\"2007/4/1\"), as.Date(\"2020/12/31\"), by = \"quarter\"),b.norm,type='b',col='red',ylim=c(-1,1),xlab='Time',ylab='beta')\n",
    "lines(seq(as.Date(\"2007/4/1\"), as.Date(\"2020/12/31\"), by = \"quarter\"),b.perm,type = 'b',col = 'blue')\n",
    "lines(seq(as.Date(\"2007/4/1\"), as.Date(\"2020/12/31\"), by = \"quarter\"),b.tran,type = 'b',col='yellow')\n",
    "title('beta_u (red), beta_perm (blue) and beta_tran (yellow)')"
   ]
  },
  {
   "cell_type": "code",
   "execution_count": 26,
   "metadata": {},
   "outputs": [
    {
     "data": {
      "image/png": "[encoded data removed]",
      "text/plain": [
       "Plot with title \"beta_u (red), beta_perm (blue) and beta_tran (yellow)\""
      ]
     },
     "metadata": {
      "image/png": {
       "height": 420,
       "width": 420
      },
      "text/plain": {
       "height": 420,
       "width": 420
      }
     },
     "output_type": "display_data"
    }
   ],
   "source": [
    "# VAR for different intervalls - 2018 break\n",
    "\n",
    "s=2\n",
    "e=50\n",
    "for (z in 1:2) {\n",
    "  \n",
    "  for (i in c(codes,'tot')){\n",
    "    assign(paste('A',i,z,sep = '_'),Bcoef(VAR(window(get(paste('X',i,sep = '_')),start = s,end = e),type = 'none')))\n",
    "  }\n",
    "  s=s+49\n",
    "  e=e+10\n",
    "}\n",
    "\n",
    "################# actual calculation of perm gdp comp ########################\n",
    "\n",
    "r=0.02\n",
    "\n",
    "for (i in codes) {\n",
    "  helper=NaN*(1:59)\n",
    "  for (z in 1:59) {\n",
    "    if(z>49){h=2}\n",
    "    else(h=1) # decide which AR coefficients are used\n",
    "    helper[z]=get(paste('l.gdp',i,sep='_'))[z+1]-l.gdp_tot[z+1]+E(get(paste('A',i,h,sep = '_')),get(paste('X',i,sep = '_'))[z,],r)\n",
    "  }\n",
    "  assign(paste('gdp.p',i,sep='_'),diff(helper))\n",
    "}\n",
    " \n",
    "################ get data together in a data frame ###########################\n",
    "\n",
    "t=length(get(paste('gdp.p',codes[1],sep='_')))\n",
    "dta.p<-data.frame(pit=1:t,'nat'=rep(codes[1],t),'con'=diff(get(paste('l.con',codes[1],sep='_')))[-1]-diff(l.con_tot)[-1],'gdp.p'=get(paste('gdp.p',codes[1],sep='_')),'gdp'=diff(get(paste('l.gdp',codes[1],sep='_')))[-1]-diff(l.gdp_tot)[-1])\n",
    "\n",
    "for (i in 2:obs) {\n",
    "  tmp=data.frame(pit=1:t,'nat'=rep(codes[i],t),'con'=diff(get(paste('l.con',codes[i],sep='_')))[-1]-diff(l.con_tot)[-1],'gdp.p'=get(paste('gdp.p',codes[i],sep='_')),'gdp'=diff(get(paste('l.gdp',codes[i],sep='_')))[-1]-diff(l.gdp_tot)[-1])\n",
    "  dta.p=rbind(dta.p,tmp)\n",
    "}\n",
    "\n",
    "dta.p$gdp.t=dta.p$gdp-dta.p$gdp.p\n",
    "\n",
    "b.perm=c()\n",
    "b.tran=c()\n",
    "b.norm=c()\n",
    "for(i in 4:58){\n",
    "  reg.norm<-lm(con~factor(nat)+gdp,data = dta.p[dta.p$pit %in% (i-3):i,])\n",
    "  b.norm[i-3]=reg.norm$coefficients['gdp']\n",
    "  reg.perm<-lm(con~factor(nat)+gdp.p,data = dta.p[dta.p$pit %in% (i-3):i,])\n",
    "  b.perm[i-3]=reg.perm$coefficients['gdp.p']\n",
    "  reg.tran<-lm(con~factor(nat)+gdp.t,data = dta.p[dta.p$pit %in% (i-3):i,])\n",
    "  b.tran[i-3]=reg.tran$coefficients['gdp.t']\n",
    "}\n",
    "\n",
    "plot(seq(as.Date(\"2007/4/1\"), as.Date(\"2020/12/31\"), by = \"quarter\"),b.norm,type='b',col='red',ylim=c(-1,1),xlab='Time',ylab='beta')\n",
    "lines(seq(as.Date(\"2007/4/1\"), as.Date(\"2020/12/31\"), by = \"quarter\"),b.perm,type = 'b',col = 'blue')\n",
    "lines(seq(as.Date(\"2007/4/1\"), as.Date(\"2020/12/31\"), by = \"quarter\"),b.tran,type = 'b',col='yellow')\n",
    "title('beta_u (red), beta_perm (blue) and beta_tran (yellow)')"
   ]
  },
  {
   "cell_type": "markdown",
   "metadata": {},
   "source": [
    "### Figure 11: Permanent Component for year level data"
   ]
  },
  {
   "cell_type": "code",
   "execution_count": 27,
   "metadata": {},
   "outputs": [
    {
     "data": {
      "image/png": "[encoded data removed]",
      "text/plain": [
       "Plot with title \"beta_u (red), beta_perm (blue) and beta_tran (yellow)\""
      ]
     },
     "metadata": {
      "image/png": {
       "height": 420,
       "width": 420
      },
      "text/plain": {
       "height": 420,
       "width": 420
      }
     },
     "output_type": "display_data"
    }
   ],
   "source": [
    "##########################################################################################\n",
    "########################## get permanent component of annual gdp #########################\n",
    "##########################################################################################\n",
    "\n",
    "l.gdp_tot=rep(0,15)\n",
    "\n",
    "for (i in codes) { # log gdp levels seasonal and calendar adjusted\n",
    "  assign(paste(\"l.gdp\",i,sep=\"_\"),to.year(get(i)[get(i)$Indicator==row_gdp & is.na(get(i)$`Reference year`)==0,][2,][7:66]))\n",
    "  l.gdp_tot=l.gdp_tot+get(paste(\"l.gdp\",i,sep=\"_\"))\n",
    "  assign(paste(\"l.gdp\",i,sep=\"_\"),as.ts(log(get(paste(\"l.gdp\",i,sep=\"_\")))))\n",
    "  assign(paste('ar',i,sep = '_'),arima(get(paste(\"l.gdp\",i,sep=\"_\")),order= c(1,1,0),include.mean = FALSE))\n",
    "}\n",
    "\n",
    "l.gdp_tot=as.ts(log(l.gdp_tot))\n",
    "ar_tot=arima(l.gdp_tot,order = c(1,1,0),include.mean = FALSE  )\n",
    "\n",
    "\n",
    "l.con_tot=rep(0,15)\n",
    "\n",
    "for (i in codes) { # log con levels seasonal and calendar adjusted\n",
    "  assign(paste(\"l.con\",i,sep=\"_\"),to.year(get(i)[get(i)$Indicator==row_con & is.na(get(i)$`Reference year`)==0,][2,][7:66]))\n",
    "  l.con_tot=l.con_tot+get(paste(\"l.con\",i,sep=\"_\"))\n",
    "  assign(paste(\"l.con\",i,sep=\"_\"),as.ts(log(get(paste(\"l.con\",i,sep=\"_\")))))\n",
    "}\n",
    "\n",
    "l.con_tot=as.ts(log(l.con_tot))\n",
    "\n",
    "\n",
    "for (i in c(codes,'tot')){\n",
    "  gdp=diff(get(paste(\"l.gdp\",i,sep=\"_\")))\n",
    "  GDP=diff(l.gdp_tot)\n",
    "  con=diff(get(paste(\"l.con\",i,sep=\"_\")))\n",
    "  CON=diff(get(paste(\"l.con\",i,sep=\"_\"))-l.con_tot)\n",
    "  \n",
    "  assign(paste('X',i,sep = '_'),ts.intersect(gdp,GDP,CON))\n",
    "}\n",
    "\n",
    "for (i in c(codes,'tot')){\n",
    "  assign(paste('A',i,sep = '_'),Bcoef(VAR(get(paste('X',i,sep = '_')),type = 'none')))\n",
    "  assign(paste('a',i,sep = '_'),cbind(c(get(paste('ar',i,sep = '_'))$coef,0),c(0,ar_tot$coef)))\n",
    "}\n",
    "\n",
    "################# actual calculation of perm gdp comp ########################\n",
    "\n",
    "r=0.02\n",
    "\n",
    "for (i in codes) {\n",
    "  helper=NaN*(1:14)\n",
    "  for (z in 1:14) {\n",
    "    helper[z]=get(paste('l.gdp',i,sep='_'))[z+1]-l.gdp_tot[z+1]+E(get(paste('A',i,sep = '_')),get(paste('X',i,sep = '_'))[z,],r)\n",
    "  }\n",
    "assign(paste('gdp.p',i,sep='_'),diff(helper))\n",
    "}\n",
    " \n",
    "################ get data together in a data frame ###########################\n",
    "\n",
    "t=length(get(paste('gdp.p',codes[1],sep='_')))\n",
    "dta.p<-data.frame(pit=1:t,'nat'=rep(codes[1],t),'con'=diff(get(paste('l.con',codes[1],sep='_')))[-1]-diff(l.con_tot)[-1],'gdp.p'=get(paste('gdp.p',codes[1],sep='_')),'gdp'=diff(get(paste('l.gdp',codes[1],sep='_')))[-1]-diff(l.gdp_tot)[-1])\n",
    "\n",
    "for (i in 2:obs) {\n",
    "  tmp=data.frame(pit=1:t,'nat'=rep(codes[i],t),'con'=diff(get(paste('l.con',codes[i],sep='_')))[-1]-diff(l.con_tot)[-1],'gdp.p'=get(paste('gdp.p',codes[i],sep='_')),'gdp'=diff(get(paste('l.gdp',codes[i],sep='_')))[-1]-diff(l.gdp_tot)[-1])\n",
    "  dta.p=rbind(dta.p,tmp)\n",
    "}\n",
    "\n",
    "dta.p$gdp.t=dta.p$gdp-dta.p$gdp.p\n",
    "\n",
    "############# developments over time #########################################\n",
    "\n",
    "b.perm=c()\n",
    "b.tran=c()\n",
    "b.norm=c()\n",
    "for(i in 2:13){\n",
    "  reg.norm<-lm(con~factor(nat)+gdp,data = dta.p[dta.p$pit %in% (i-1):i,])\n",
    "  b.norm[i-1]=reg.norm$coefficients['gdp']\n",
    "  reg.perm<-lm(con~factor(nat)+gdp.p,data = dta.p[dta.p$pit %in% (i-1):i,])\n",
    "  b.perm[i-1]=reg.perm$coefficients['gdp.p']\n",
    "  reg.tran<-lm(con~factor(nat)+gdp.t,data = dta.p[dta.p$pit %in% (i-1):i,])\n",
    "  b.tran[i-1]=reg.tran$coefficients['gdp.t']\n",
    "}\n",
    "\n",
    "plot(2009:2020,b.norm,type='b',col='red',ylim=c(-1,1),xlab='Year',ylab='beta')\n",
    "lines(2009:2020,b.perm,type = 'b',col = 'blue')\n",
    "lines(2009:2020,b.tran,type = 'b',col='yellow')\n",
    "title('beta_u (red), beta_perm (blue) and beta_tran (yellow)')"
   ]
  },
  {
   "cell_type": "markdown",
   "metadata": {},
   "source": [
    "### read in data - us sample"
   ]
  },
  {
   "cell_type": "code",
   "execution_count": 28,
   "metadata": {},
   "outputs": [],
   "source": [
    "rm(list=setdiff(ls(),c('path','output',names(Filter(is.function, mget(ls(all=T)))))))\n",
    "wls=1 # if =1 weighting by state polulation in 2020 ##user"
   ]
  },
  {
   "cell_type": "code",
   "execution_count": 29,
   "metadata": {},
   "outputs": [],
   "source": [
    "# Oxford Covid-19 Government Response Tracker\n",
    "\n",
    "mc_raw<-read_xlsx(paste(path,'MA_rep/OxCGRT_data/OxCGRTUS_timeseries_all','.xlsx',sep = ''),sheet = 1) # restrictions\n",
    "ps_raw<-read_xlsx(paste(path,'MA_rep/OxCGRT_data/OxCGRTUS_timeseries_all','.xlsx',sep = ''),sheet = 4) # policy support\n",
    "ic_raw<-read_xlsx(paste(path,'MA_rep/OxCGRT_data/OxCGRTUS_timeseries_all','.xlsx',sep = ''),sheet = 'confirmed_cases') # confirmed cases\n",
    "mr_raw<-read_xlsx(paste(path,'MA_rep/OxCGRT_data/OxCGRTUS_timeseries_all','.xlsx',sep = ''),sheet = 'c7_movementrestrictions') # movement restrictions\n",
    "sh_raw<-read_xlsx(paste(path,'MA_rep/OxCGRT_data/OxCGRTUS_timeseries_all','.xlsx',sep = ''),sheet = 'c6_stay_at_home_requirements') # stay at home requirements\n",
    "\n",
    "# BEA population data 2020\n",
    "\n",
    "pop_raw<-read.csv(paste(path,'MA_rep/bea_data/pop_bea2020.csv',sep=''),header=FALSE,stringsAsFactors = FALSE)\n",
    "\n",
    "# BEA production and income data - quarterly on state-level\n",
    "\n",
    "gsp_raw<-read.csv(paste(path,\"MA_rep/bea_data/SQGDP9.csv\",sep=''),header=FALSE,stringsAsFactors = FALSE)\n",
    "inc_raw<-read.csv(paste(path,\"MA_rep/bea_data/SQINC1.csv\",sep=''),header=FALSE,stringsAsFactors = FALSE)[,-3]"
   ]
  },
  {
   "cell_type": "markdown",
   "metadata": {},
   "source": [
    "### get 'tilde' variables and put everything together in a data frame"
   ]
  },
  {
   "cell_type": "code",
   "execution_count": 30,
   "metadata": {},
   "outputs": [
    {
     "data": {
      "text/html": [
       "<table>\n",
       "<caption>A data.frame: 6 × 11</caption>\n",
       "<thead>\n",
       "\t<tr><th></th><th scope=col>state</th><th scope=col>pit</th><th scope=col>year</th><th scope=col>gsp</th><th scope=col>inc</th><th scope=col>mc</th><th scope=col>ps</th><th scope=col>pop</th><th scope=col>ic</th><th scope=col>mr</th><th scope=col>sh</th></tr>\n",
       "\t<tr><th></th><th scope=col>&lt;fct&gt;</th><th scope=col>&lt;int&gt;</th><th scope=col>&lt;dbl&gt;</th><th scope=col>&lt;dbl&gt;</th><th scope=col>&lt;dbl&gt;</th><th scope=col>&lt;dbl&gt;</th><th scope=col>&lt;dbl&gt;</th><th scope=col>&lt;dbl&gt;</th><th scope=col>&lt;dbl&gt;</th><th scope=col>&lt;dbl&gt;</th><th scope=col>&lt;dbl&gt;</th></tr>\n",
       "</thead>\n",
       "<tbody>\n",
       "\t<tr><th scope=row>60</th><td>Alaska </td><td>60</td><td>2020</td><td>-0.010</td><td>-0.044</td><td>22.68209</td><td>10.71429</td><td> 730138</td><td>0.0001766789</td><td>0.04395604</td><td>0.10989011</td></tr>\n",
       "\t<tr><th scope=row>61</th><td>Alaska </td><td>61</td><td>2020</td><td>-0.024</td><td>-0.043</td><td>70.34022</td><td>87.50000</td><td> 730138</td><td>0.0013874090</td><td>0.51648352</td><td>0.25274725</td></tr>\n",
       "\t<tr><th scope=row>62</th><td>Alaska </td><td>62</td><td>2020</td><td>-0.012</td><td>-0.056</td><td>57.54359</td><td>70.65217</td><td> 730138</td><td>0.0105514300</td><td>0.84782609</td><td>0.00000000</td></tr>\n",
       "\t<tr><th scope=row>63</th><td>Alaska </td><td>63</td><td>2020</td><td> 0.015</td><td>-0.011</td><td>59.14022</td><td>49.72826</td><td> 730138</td><td>0.0522750494</td><td>1.00000000</td><td>0.00000000</td></tr>\n",
       "\t<tr><th scope=row>123</th><td>Alabama</td><td>60</td><td>2020</td><td> 0.018</td><td> 0.018</td><td>14.91253</td><td> 5.21978</td><td>4928670</td><td>0.0002156768</td><td>0.00000000</td><td>0.08791209</td></tr>\n",
       "\t<tr><th scope=row>124</th><td>Alabama</td><td>61</td><td>2020</td><td> 0.018</td><td> 0.053</td><td>65.89747</td><td>62.50000</td><td>4928670</td><td>0.0075910946</td><td>0.00000000</td><td>0.87912088</td></tr>\n",
       "</tbody>\n",
       "</table>\n"
      ],
      "text/latex": [
       "A data.frame: 6 × 11\n",
       "\\begin{tabular}{r|lllllllllll}\n",
       "  & state & pit & year & gsp & inc & mc & ps & pop & ic & mr & sh\\\\\n",
       "  & <fct> & <int> & <dbl> & <dbl> & <dbl> & <dbl> & <dbl> & <dbl> & <dbl> & <dbl> & <dbl>\\\\\n",
       "\\hline\n",
       "\t60 & Alaska  & 60 & 2020 & -0.010 & -0.044 & 22.68209 & 10.71429 &  730138 & 0.0001766789 & 0.04395604 & 0.10989011\\\\\n",
       "\t61 & Alaska  & 61 & 2020 & -0.024 & -0.043 & 70.34022 & 87.50000 &  730138 & 0.0013874090 & 0.51648352 & 0.25274725\\\\\n",
       "\t62 & Alaska  & 62 & 2020 & -0.012 & -0.056 & 57.54359 & 70.65217 &  730138 & 0.0105514300 & 0.84782609 & 0.00000000\\\\\n",
       "\t63 & Alaska  & 63 & 2020 &  0.015 & -0.011 & 59.14022 & 49.72826 &  730138 & 0.0522750494 & 1.00000000 & 0.00000000\\\\\n",
       "\t123 & Alabama & 60 & 2020 &  0.018 &  0.018 & 14.91253 &  5.21978 & 4928670 & 0.0002156768 & 0.00000000 & 0.08791209\\\\\n",
       "\t124 & Alabama & 61 & 2020 &  0.018 &  0.053 & 65.89747 & 62.50000 & 4928670 & 0.0075910946 & 0.00000000 & 0.87912088\\\\\n",
       "\\end{tabular}\n"
      ],
      "text/markdown": [
       "\n",
       "A data.frame: 6 × 11\n",
       "\n",
       "| <!--/--> | state &lt;fct&gt; | pit &lt;int&gt; | year &lt;dbl&gt; | gsp &lt;dbl&gt; | inc &lt;dbl&gt; | mc &lt;dbl&gt; | ps &lt;dbl&gt; | pop &lt;dbl&gt; | ic &lt;dbl&gt; | mr &lt;dbl&gt; | sh &lt;dbl&gt; |\n",
       "|---|---|---|---|---|---|---|---|---|---|---|---|\n",
       "| 60 | Alaska  | 60 | 2020 | -0.010 | -0.044 | 22.68209 | 10.71429 |  730138 | 0.0001766789 | 0.04395604 | 0.10989011 |\n",
       "| 61 | Alaska  | 61 | 2020 | -0.024 | -0.043 | 70.34022 | 87.50000 |  730138 | 0.0013874090 | 0.51648352 | 0.25274725 |\n",
       "| 62 | Alaska  | 62 | 2020 | -0.012 | -0.056 | 57.54359 | 70.65217 |  730138 | 0.0105514300 | 0.84782609 | 0.00000000 |\n",
       "| 63 | Alaska  | 63 | 2020 |  0.015 | -0.011 | 59.14022 | 49.72826 |  730138 | 0.0522750494 | 1.00000000 | 0.00000000 |\n",
       "| 123 | Alabama | 60 | 2020 |  0.018 |  0.018 | 14.91253 |  5.21978 | 4928670 | 0.0002156768 | 0.00000000 | 0.08791209 |\n",
       "| 124 | Alabama | 61 | 2020 |  0.018 |  0.053 | 65.89747 | 62.50000 | 4928670 | 0.0075910946 | 0.00000000 | 0.87912088 |\n",
       "\n"
      ],
      "text/plain": [
       "    state   pit year gsp    inc    mc       ps       pop     ic          \n",
       "60  Alaska  60  2020 -0.010 -0.044 22.68209 10.71429  730138 0.0001766789\n",
       "61  Alaska  61  2020 -0.024 -0.043 70.34022 87.50000  730138 0.0013874090\n",
       "62  Alaska  62  2020 -0.012 -0.056 57.54359 70.65217  730138 0.0105514300\n",
       "63  Alaska  63  2020  0.015 -0.011 59.14022 49.72826  730138 0.0522750494\n",
       "123 Alabama 60  2020  0.018  0.018 14.91253  5.21978 4928670 0.0002156768\n",
       "124 Alabama 61  2020  0.018  0.053 65.89747 62.50000 4928670 0.0075910946\n",
       "    mr         sh        \n",
       "60  0.04395604 0.10989011\n",
       "61  0.51648352 0.25274725\n",
       "62  0.84782609 0.00000000\n",
       "63  1.00000000 0.00000000\n",
       "123 0.00000000 0.08791209\n",
       "124 0.00000000 0.87912088"
      ]
     },
     "metadata": {},
     "output_type": "display_data"
    }
   ],
   "source": [
    "################################## state codes and names ####################################################\n",
    "\n",
    "# excluding DC since cooks D suggests overproportional influence on coefficients\n",
    "\n",
    "us_codes<-mc_raw$region_code[-8]\n",
    "us_names<-mc_raw$region_name[-8]\n",
    "\n",
    "################################## get quarterly means   ####################################################\n",
    "\n",
    "cutoffs<-c('region_name','31Mar2020','30Jun2020','30Sep2020','31Dec2020')\n",
    "# drop 2021 observations\n",
    "mc_raw<-mc_raw[,-grep('2021',names(mc_raw))]\n",
    "ps_raw<-ps_raw[,-grep('2021',names(ps_raw))]\n",
    "mr_raw<-mr_raw[,-grep('2021',names(mr_raw))]\n",
    "sh_raw<-sh_raw[,-grep('2021',names(sh_raw))]\n",
    "ic_raw<-ic_raw[,names(ic_raw) %in% cutoffs]\n",
    "ic_raw[,-(1:2)]<-ic_raw[,-(1:2)]-ic_raw[,-c(1,5)]\n",
    "\n",
    "Q1=c('Jan','Feb','Mar')\n",
    "Q2=c('Apr','May','Jun')\n",
    "Q3=c('Jul','Aug','Sep')\n",
    "Q4=c('Oct','Nov','Dec')\n",
    "\n",
    "\n",
    "for(t in 1:4){\n",
    "       assign(paste('mc_Q',t,sep = ''),cbind(us_names,rowMeans(mc_raw[,c(grep(get(paste('Q',t,sep = ''))[1],names(mc_raw)),grep(get(paste('Q',t,sep = ''))[2],names(mc_raw)),grep(get(paste('Q',t,sep = ''))[3],names(mc_raw)))])))\n",
    "       assign(paste('ps_Q',t,sep = ''),cbind(us_names,rowMeans(ps_raw[,c(grep(get(paste('Q',t,sep = ''))[1],names(ps_raw)),grep(get(paste('Q',t,sep = ''))[2],names(ps_raw)),grep(get(paste('Q',t,sep = ''))[3],names(ps_raw)))])))\n",
    "       assign(paste('mr_Q',t,sep = ''),cbind(us_names,rowMeans(mr_raw[,c(grep(get(paste('Q',t,sep = ''))[1],names(mr_raw)),grep(get(paste('Q',t,sep = ''))[2],names(mr_raw)),grep(get(paste('Q',t,sep = ''))[3],names(mr_raw)))]==2)))\n",
    "       assign(paste('sh_Q',t,sep = ''),cbind(us_names,rowMeans(sh_raw[,c(grep(get(paste('Q',t,sep = ''))[1],names(sh_raw)),grep(get(paste('Q',t,sep = ''))[2],names(sh_raw)),grep(get(paste('Q',t,sep = ''))[3],names(sh_raw)))]>1)))\n",
    "}\n",
    "\n",
    "################################## get population weights                   ##################################\n",
    "\n",
    "pop_raw<-pop_raw[pop_raw$V2 %in% us_names,c(2,6)]\n",
    "\n",
    "################################## get 'tilde' values: difference to 'global' growth rate ####################\n",
    "\n",
    "gsp_tilde=gsp_raw[gsp_raw$V2 %in% c('United States',us_names),-1]\n",
    "inc_tilde=inc_raw[inc_raw$V2 %in% c('United States',us_names),-1]\n",
    "\n",
    "gsp_tilde[-1,-1]=to.num(gsp_tilde[-1,-1])-matrix(rep(to.num(gsp_tilde[1,-1]),length(gsp_tilde$V2)-1),nrow = length(gsp_tilde$V2)-1,byrow = TRUE)\n",
    "inc_tilde[-1,-1]=to.num(inc_tilde[-1,-1])-matrix(rep(to.num(inc_tilde[1,-1]),length(inc_tilde$V2)-1),nrow = length(inc_tilde$V2)-1,byrow = TRUE)\n",
    "\n",
    "################################# prepare a data frame #######################################################\n",
    "\n",
    "dta.us<-data.frame('state'=rep(us_names,each=63),'pit'=rep(1:63,length(us_names)))\n",
    "dta.us$year=year(dta.us$pit,start = 2005,sq=1)\n",
    "dta.us$gsp=0\n",
    "dta.us$inc=0\n",
    "dta.us$mc=0\n",
    "dta.us$ps=0\n",
    "dta.us$pop=0\n",
    "dta.us$ic=0\n",
    "dta.us$mr=0\n",
    "dta.us$sh=0\n",
    "\n",
    "################################# fill data frame     ########################################################\n",
    "\n",
    "for (r in 1:nrow(dta.us)) {\n",
    "  state=dta.us$state[r]\n",
    "  pit=dta.us$pit[r]\n",
    "  \n",
    "  dta.us$gsp[r]=gsp_tilde[gsp_tilde[,1]==state,pit+1]\n",
    "  dta.us$inc[r]=inc_tilde[inc_tilde[,1]==state,pit+1]\n",
    "  dta.us$pop[r]=pop_raw[pop_raw[,1]==state,2]\n",
    "  \n",
    "  if(pit>=60){dta.us$mc[r]=get(paste('mc_Q',pit-59,sep = ''))[get(paste('mc_Q',pit-59,sep = ''))[,1]==state,2]\n",
    "              dta.us$ps[r]=get(paste('ps_Q',pit-59,sep = ''))[get(paste('ps_Q',pit-59,sep = ''))[,1]==state,2]\n",
    "              dta.us$mr[r]=get(paste('mr_Q',pit-59,sep = ''))[get(paste('mr_Q',pit-59,sep = ''))[,1]==state,2]\n",
    "              dta.us$sh[r]=get(paste('sh_Q',pit-59,sep = ''))[get(paste('sh_Q',pit-59,sep = ''))[,1]==state,2]\n",
    "              dta.us$ic[r]=ic_raw[c(ic_raw[,1])$region_name==toString(state),pit-59+1]/as.numeric(dta.us$pop[r])\n",
    "    }\n",
    "}\n",
    "\n",
    "############################### make sure type of vars ins as desired ########################################\n",
    "\n",
    "dta.us$gsp=as.numeric(dta.us$gsp)/100\n",
    "dta.us$inc=as.numeric(dta.us$inc)/100\n",
    "dta.us$mc=as.numeric(dta.us$mc)\n",
    "dta.us$ps=as.numeric(dta.us$ps)\n",
    "dta.us$pop=as.numeric(dta.us$pop)\n",
    "dta.us$ic=as.numeric(dta.us$ic)\n",
    "dta.us$mr=as.numeric(dta.us$mr)\n",
    "dta.us$sh=as.numeric(dta.us$sh)\n",
    "\n",
    "############################### option to do wls/ols #########################################################\n",
    "\n",
    "if(wls==0){\n",
    "  dta.us$pop=1\n",
    "}\n",
    "\n",
    "# show head of 2020 subset of df\n",
    "\n",
    "head(dta.us[dta.us$year==2020,])"
   ]
  },
  {
   "cell_type": "markdown",
   "metadata": {},
   "source": [
    "### Table 10: WLS: Personal Income = state fixed effects + incidence + GSP * travel restrictions * policy support"
   ]
  },
  {
   "cell_type": "code",
   "execution_count": 31,
   "metadata": {},
   "outputs": [
    {
     "name": "stdout",
     "output_type": "stream",
     "text": [
      "\n",
      "WLS: Personal Income = state fixed effects + incidence + GSP * travel restrictions * policy support\n",
      "==========================================================\n",
      "                                                          \n",
      "----------------------------------------------------------\n",
      "ic                                 0.451***               \n",
      "                                   (0.047)                \n",
      "                                                          \n",
      "gsp                                0.497***               \n",
      "                                   (0.028)                \n",
      "                                                          \n",
      "ps                                -0.0002***              \n",
      "                                  (0.00003)               \n",
      "                                                          \n",
      "mr                                -0.062***               \n",
      "                                   (0.008)                \n",
      "                                                          \n",
      "gsp:ps                            -0.014***               \n",
      "                                   (0.001)                \n",
      "                                                          \n",
      "gsp:mr                             2.942***               \n",
      "                                   (0.197)                \n",
      "                                                          \n",
      "ps:mr                              0.001***               \n",
      "                                   (0.0001)               \n",
      "                                                          \n",
      "gsp:ps:mr                         -0.053***               \n",
      "                                   (0.004)                \n",
      "                                                          \n",
      "Constant                          -0.001***               \n",
      "                                   (0.0002)               \n",
      "                                                          \n",
      "State fixed effects                  Yes                  \n",
      "==========================================================\n",
      "Notes:              ***Significant at the 1 percent level.\n",
      "                     **Significant at the 5 percent level.\n",
      "                     *Significant at the 10 percent level.\n"
     ]
    }
   ],
   "source": [
    "travel.reg=glm(inc~factor(state)+ic+gsp*ps*mr,data = dta.us,weights=dta.us$pop)\n",
    "stargazer(coeftest(travel.reg,vcovCL,cluster=dta.us[,c('state','year')]),type = output,title = 'WLS: Personal Income = state fixed effects + incidence + GSP * travel restrictions * policy support',style = 'qje',omit = 'factor',omit.labels = ' State fixed effects')"
   ]
  },
  {
   "cell_type": "markdown",
   "metadata": {},
   "source": [
    "### Table 11: WLS: Personal Income = state fixed effects + incidence + GSP * stay at home requirements * policy support"
   ]
  },
  {
   "cell_type": "code",
   "execution_count": 32,
   "metadata": {},
   "outputs": [
    {
     "name": "stdout",
     "output_type": "stream",
     "text": [
      "\n",
      "WLS: Personal Income = state fixed effects + incidence + GSP * stay at home requirements * policy support\n",
      "==========================================================\n",
      "                                                          \n",
      "----------------------------------------------------------\n",
      "ic                                 0.421***               \n",
      "                                   (0.048)                \n",
      "                                                          \n",
      "gsp                                0.496***               \n",
      "                                   (0.028)                \n",
      "                                                          \n",
      "ps                                -0.0002***              \n",
      "                                  (0.00003)               \n",
      "                                                          \n",
      "sh                                -0.015***               \n",
      "                                   (0.004)                \n",
      "                                                          \n",
      "gsp:ps                            -0.013***               \n",
      "                                   (0.001)                \n",
      "                                                          \n",
      "gsp:sh                             5.661***               \n",
      "                                   (0.577)                \n",
      "                                                          \n",
      "ps:sh                              0.001***               \n",
      "                                   (0.0001)               \n",
      "                                                          \n",
      "gsp:ps:sh                         -0.088***               \n",
      "                                   (0.007)                \n",
      "                                                          \n",
      "Constant                          -0.002***               \n",
      "                                   (0.0002)               \n",
      "                                                          \n",
      "State fixed effects                  Yes                  \n",
      "==========================================================\n",
      "Notes:              ***Significant at the 1 percent level.\n",
      "                     **Significant at the 5 percent level.\n",
      "                     *Significant at the 10 percent level.\n"
     ]
    }
   ],
   "source": [
    "home.reg=glm(inc~factor(state)+ic+gsp*ps*sh,data = dta.us,weights=dta.us$pop)\n",
    "stargazer(coeftest(home.reg,vcovCL,cluster=dta.us[,c('state','year')]),type = output,title = 'WLS: Personal Income = state fixed effects + incidence + GSP * stay at home requirements * policy support',style = 'qje',omit = 'factor',omit.labels = ' State fixed effects')"
   ]
  },
  {
   "cell_type": "code",
   "execution_count": 33,
   "metadata": {},
   "outputs": [
    {
     "name": "stdout",
     "output_type": "stream",
     "text": [
      "\n",
      "Triple interaction regression: Consumption - asym?\n",
      "============================================================\n",
      "                                                            \n",
      "------------------------------------------------------------\n",
      "ic                                   0.581***               \n",
      "                                     (0.036)                \n",
      "                                                            \n",
      "gsp                                  0.476***               \n",
      "                                     (0.062)                \n",
      "                                                            \n",
      "up                                    0.004                 \n",
      "                                     (0.003)                \n",
      "                                                            \n",
      "gsp:up                              -0.121***               \n",
      "                                     (0.037)                \n",
      "                                                            \n",
      "Constant                              -0.003                \n",
      "                                                            \n",
      "                                                            \n",
      "Country fixed effects                  Yes                  \n",
      "============================================================\n",
      "Notes:                ***Significant at the 1 percent level.\n",
      "                       **Significant at the 5 percent level.\n",
      "                       *Significant at the 10 percent level.\n"
     ]
    }
   ],
   "source": [
    "# look for assymetrics, not in thesis but might interesting\n",
    "\n",
    "dta.us$up=dta.us$gsp>0\n",
    "\n",
    "asym<-lm(inc~factor(state)+ic+gsp*up,data = dta.us)\n",
    "stargazer(coeftest(asym,vcovCL,cluster=dta.us[,c('state','year')]),type = output,title = 'Triple interaction regression: Consumption - asym?',style = 'qje',omit = 'factor',omit.labels = ' Country fixed effects')"
   ]
  },
  {
   "cell_type": "markdown",
   "metadata": {},
   "source": [
    "### calculate permanent and transitory component and add them to data frame"
   ]
  },
  {
   "cell_type": "code",
   "execution_count": 34,
   "metadata": {},
   "outputs": [
    {
     "data": {
      "text/html": [
       "<table>\n",
       "<caption>A data.frame: 6 × 14</caption>\n",
       "<thead>\n",
       "\t<tr><th></th><th scope=col>state</th><th scope=col>pit</th><th scope=col>year</th><th scope=col>gsp</th><th scope=col>inc</th><th scope=col>mc</th><th scope=col>ps</th><th scope=col>pop</th><th scope=col>ic</th><th scope=col>mr</th><th scope=col>sh</th><th scope=col>up</th><th scope=col>gsp.perm</th><th scope=col>gsp.tran</th></tr>\n",
       "\t<tr><th></th><th scope=col>&lt;fct&gt;</th><th scope=col>&lt;int&gt;</th><th scope=col>&lt;dbl&gt;</th><th scope=col>&lt;dbl&gt;</th><th scope=col>&lt;dbl&gt;</th><th scope=col>&lt;dbl&gt;</th><th scope=col>&lt;dbl&gt;</th><th scope=col>&lt;dbl&gt;</th><th scope=col>&lt;dbl&gt;</th><th scope=col>&lt;dbl&gt;</th><th scope=col>&lt;dbl&gt;</th><th scope=col>&lt;lgl&gt;</th><th scope=col>&lt;dbl&gt;</th><th scope=col>&lt;dbl&gt;</th></tr>\n",
       "</thead>\n",
       "<tbody>\n",
       "\t<tr><th scope=row>60</th><td>Alaska </td><td>60</td><td>2020</td><td>-0.010</td><td>-0.044</td><td>22.68209</td><td>10.71429</td><td> 730138</td><td>0.0001766789</td><td>0.04395604</td><td>0.10989011</td><td>FALSE</td><td> 0.006199911</td><td>-0.016199911</td></tr>\n",
       "\t<tr><th scope=row>61</th><td>Alaska </td><td>61</td><td>2020</td><td>-0.024</td><td>-0.043</td><td>70.34022</td><td>87.50000</td><td> 730138</td><td>0.0013874090</td><td>0.51648352</td><td>0.25274725</td><td>FALSE</td><td>-0.031386525</td><td> 0.007386525</td></tr>\n",
       "\t<tr><th scope=row>62</th><td>Alaska </td><td>62</td><td>2020</td><td>-0.012</td><td>-0.056</td><td>57.54359</td><td>70.65217</td><td> 730138</td><td>0.0105514300</td><td>0.84782609</td><td>0.00000000</td><td>FALSE</td><td>-0.013797871</td><td> 0.001797871</td></tr>\n",
       "\t<tr><th scope=row>63</th><td>Alaska </td><td>63</td><td>2020</td><td> 0.015</td><td>-0.011</td><td>59.14022</td><td>49.72826</td><td> 730138</td><td>0.0522750494</td><td>1.00000000</td><td>0.00000000</td><td> TRUE</td><td> 0.045865587</td><td>-0.030865587</td></tr>\n",
       "\t<tr><th scope=row>123</th><td>Alabama</td><td>60</td><td>2020</td><td> 0.018</td><td> 0.018</td><td>14.91253</td><td> 5.21978</td><td>4928670</td><td>0.0002156768</td><td>0.00000000</td><td>0.08791209</td><td> TRUE</td><td> 0.023607856</td><td>-0.005607856</td></tr>\n",
       "\t<tr><th scope=row>124</th><td>Alabama</td><td>61</td><td>2020</td><td> 0.018</td><td> 0.053</td><td>65.89747</td><td>62.50000</td><td>4928670</td><td>0.0075910946</td><td>0.00000000</td><td>0.87912088</td><td> TRUE</td><td> 0.032438315</td><td>-0.014438315</td></tr>\n",
       "</tbody>\n",
       "</table>\n"
      ],
      "text/latex": [
       "A data.frame: 6 × 14\n",
       "\\begin{tabular}{r|llllllllllllll}\n",
       "  & state & pit & year & gsp & inc & mc & ps & pop & ic & mr & sh & up & gsp.perm & gsp.tran\\\\\n",
       "  & <fct> & <int> & <dbl> & <dbl> & <dbl> & <dbl> & <dbl> & <dbl> & <dbl> & <dbl> & <dbl> & <lgl> & <dbl> & <dbl>\\\\\n",
       "\\hline\n",
       "\t60 & Alaska  & 60 & 2020 & -0.010 & -0.044 & 22.68209 & 10.71429 &  730138 & 0.0001766789 & 0.04395604 & 0.10989011 & FALSE &  0.006199911 & -0.016199911\\\\\n",
       "\t61 & Alaska  & 61 & 2020 & -0.024 & -0.043 & 70.34022 & 87.50000 &  730138 & 0.0013874090 & 0.51648352 & 0.25274725 & FALSE & -0.031386525 &  0.007386525\\\\\n",
       "\t62 & Alaska  & 62 & 2020 & -0.012 & -0.056 & 57.54359 & 70.65217 &  730138 & 0.0105514300 & 0.84782609 & 0.00000000 & FALSE & -0.013797871 &  0.001797871\\\\\n",
       "\t63 & Alaska  & 63 & 2020 &  0.015 & -0.011 & 59.14022 & 49.72826 &  730138 & 0.0522750494 & 1.00000000 & 0.00000000 &  TRUE &  0.045865587 & -0.030865587\\\\\n",
       "\t123 & Alabama & 60 & 2020 &  0.018 &  0.018 & 14.91253 &  5.21978 & 4928670 & 0.0002156768 & 0.00000000 & 0.08791209 &  TRUE &  0.023607856 & -0.005607856\\\\\n",
       "\t124 & Alabama & 61 & 2020 &  0.018 &  0.053 & 65.89747 & 62.50000 & 4928670 & 0.0075910946 & 0.00000000 & 0.87912088 &  TRUE &  0.032438315 & -0.014438315\\\\\n",
       "\\end{tabular}\n"
      ],
      "text/markdown": [
       "\n",
       "A data.frame: 6 × 14\n",
       "\n",
       "| <!--/--> | state &lt;fct&gt; | pit &lt;int&gt; | year &lt;dbl&gt; | gsp &lt;dbl&gt; | inc &lt;dbl&gt; | mc &lt;dbl&gt; | ps &lt;dbl&gt; | pop &lt;dbl&gt; | ic &lt;dbl&gt; | mr &lt;dbl&gt; | sh &lt;dbl&gt; | up &lt;lgl&gt; | gsp.perm &lt;dbl&gt; | gsp.tran &lt;dbl&gt; |\n",
       "|---|---|---|---|---|---|---|---|---|---|---|---|---|---|---|\n",
       "| 60 | Alaska  | 60 | 2020 | -0.010 | -0.044 | 22.68209 | 10.71429 |  730138 | 0.0001766789 | 0.04395604 | 0.10989011 | FALSE |  0.006199911 | -0.016199911 |\n",
       "| 61 | Alaska  | 61 | 2020 | -0.024 | -0.043 | 70.34022 | 87.50000 |  730138 | 0.0013874090 | 0.51648352 | 0.25274725 | FALSE | -0.031386525 |  0.007386525 |\n",
       "| 62 | Alaska  | 62 | 2020 | -0.012 | -0.056 | 57.54359 | 70.65217 |  730138 | 0.0105514300 | 0.84782609 | 0.00000000 | FALSE | -0.013797871 |  0.001797871 |\n",
       "| 63 | Alaska  | 63 | 2020 |  0.015 | -0.011 | 59.14022 | 49.72826 |  730138 | 0.0522750494 | 1.00000000 | 0.00000000 |  TRUE |  0.045865587 | -0.030865587 |\n",
       "| 123 | Alabama | 60 | 2020 |  0.018 |  0.018 | 14.91253 |  5.21978 | 4928670 | 0.0002156768 | 0.00000000 | 0.08791209 |  TRUE |  0.023607856 | -0.005607856 |\n",
       "| 124 | Alabama | 61 | 2020 |  0.018 |  0.053 | 65.89747 | 62.50000 | 4928670 | 0.0075910946 | 0.00000000 | 0.87912088 |  TRUE |  0.032438315 | -0.014438315 |\n",
       "\n"
      ],
      "text/plain": [
       "    state   pit year gsp    inc    mc       ps       pop     ic          \n",
       "60  Alaska  60  2020 -0.010 -0.044 22.68209 10.71429  730138 0.0001766789\n",
       "61  Alaska  61  2020 -0.024 -0.043 70.34022 87.50000  730138 0.0013874090\n",
       "62  Alaska  62  2020 -0.012 -0.056 57.54359 70.65217  730138 0.0105514300\n",
       "63  Alaska  63  2020  0.015 -0.011 59.14022 49.72826  730138 0.0522750494\n",
       "123 Alabama 60  2020  0.018  0.018 14.91253  5.21978 4928670 0.0002156768\n",
       "124 Alabama 61  2020  0.018  0.053 65.89747 62.50000 4928670 0.0075910946\n",
       "    mr         sh         up    gsp.perm     gsp.tran    \n",
       "60  0.04395604 0.10989011 FALSE  0.006199911 -0.016199911\n",
       "61  0.51648352 0.25274725 FALSE -0.031386525  0.007386525\n",
       "62  0.84782609 0.00000000 FALSE -0.013797871  0.001797871\n",
       "63  1.00000000 0.00000000  TRUE  0.045865587 -0.030865587\n",
       "123 0.00000000 0.08791209  TRUE  0.023607856 -0.005607856\n",
       "124 0.00000000 0.87912088  TRUE  0.032438315 -0.014438315"
      ]
     },
     "metadata": {},
     "output_type": "display_data"
    }
   ],
   "source": [
    "##########################################################################################\n",
    "########################## get permanent component of gsp ################################\n",
    "##########################################################################################\n",
    "\n",
    "inc_ste=inc_raw[-c(1:5,66:69),-1]\n",
    "gsp_ste=gsp_raw[-c(1:5,66:68),-1]\n",
    "\n",
    "for (i in us_names){\n",
    "  gsp=as.numeric(gsp_ste[gsp_ste[,1]==i,-1])\n",
    "  GSP=as.numeric(gsp_ste[gsp_ste[,1]=='United States',-1])\n",
    "  INC=as.numeric(inc_ste[inc_ste[,1]==i,-1])-as.numeric(inc_ste[inc_ste[,1]=='United States',-1])\n",
    "  assign(paste('X',i,sep = '_'),ts(cbind(gsp,GSP,INC)/100))\n",
    "}\n",
    "\n",
    "for (i in c(us_names)){\n",
    "  assign(paste('A',i,sep = '_'),Bcoef(VAR(get(paste('X',i,sep = '_')),type = 'none')))\n",
    "}\n",
    "\n",
    "################# actual calculation of perm gsp comp ########################\n",
    "\n",
    "r=0.02\n",
    "\n",
    "for (i in us_names) {\n",
    "  helper=NaN*(1:63)\n",
    "  for (z in 1:63) {\n",
    "    helper[z]=E(get(paste('A',i,sep = '_')),get(paste('X',i,sep = '_'))[z,],r)\n",
    "  }\n",
    "assign(paste('dif.p',i,sep='_'),diff(helper))\n",
    "}\n",
    " \n",
    "################ add perm gsp component in the data frame #####################\n",
    "\n",
    "dta.us.p=dta.us[dta.us$pit!=1,]\n",
    "\n",
    "dta.us.p$gsp.perm=NA\n",
    "\n",
    "for (i in us_names) {\n",
    "  dta.us.p$gsp.perm[dta.us.p$state==i]=dta.us.p$gsp[dta.us.p$state==i]+get(paste('dif.p',i,sep='_'))\n",
    "}\n",
    "\n",
    "dta.us.p$gsp.tran<-dta.us.p$gsp-dta.us.p$gsp.perm\n",
    "\n",
    "# show head of 2020 subset of df\n",
    "\n",
    "head(dta.us.p[dta.us.p$year==2020,])"
   ]
  },
  {
   "cell_type": "markdown",
   "metadata": {},
   "source": [
    "### Table 12: WLS: Personal Income = state fixed effects + incidence + GDP component * stay at home requirements * policy support"
   ]
  },
  {
   "cell_type": "code",
   "execution_count": 35,
   "metadata": {},
   "outputs": [
    {
     "name": "stdout",
     "output_type": "stream",
     "text": [
      "\n",
      "WLS: Personal Income = state fixed effects + incidence + GDP component * stay at home requirements * policy support\n",
      "============================================================\n",
      "                                                            \n",
      "                        total       permanent    transitory \n",
      "                         (1)           (2)          (3)     \n",
      "------------------------------------------------------------\n",
      "ic                    0.422***      0.451***      0.525***  \n",
      "                       (0.048)       (0.047)      (0.020)   \n",
      "                                                            \n",
      "gsp                   0.497***      0.366***       0.194    \n",
      "                       (0.027)       (0.034)      (0.167)   \n",
      "                                                            \n",
      "ps                   -0.0002***    -0.0003***    -0.0002*** \n",
      "                      (0.00003)     (0.00003)    (0.00002)  \n",
      "                                                            \n",
      "sh                    -0.015***       0.011        -0.007   \n",
      "                       (0.004)       (0.010)      (0.010)   \n",
      "                                                            \n",
      "gsp:ps                -0.013***       0.001       -0.010**  \n",
      "                       (0.001)       (0.001)      (0.005)   \n",
      "                                                            \n",
      "gsp:sh                5.665***      2.413***       0.436    \n",
      "                       (0.589)       (0.350)      (0.354)   \n",
      "                                                            \n",
      "ps:sh                 0.001***      0.001***      0.001***  \n",
      "                      (0.0001)      (0.0002)      (0.0001)  \n",
      "                                                            \n",
      "gsp:ps:sh             -0.088***     -0.047***      -0.009   \n",
      "                       (0.007)       (0.003)      (0.010)   \n",
      "                                                            \n",
      "Constant               -0.002       -0.003***    -0.006***  \n",
      "                                     (0.001)      (0.001)   \n",
      "                                                            \n",
      "State fixed effects      Yes           Yes          Yes     \n",
      "============================================================\n",
      "Notes:                ***Significant at the 1 percent level.\n",
      "                       **Significant at the 5 percent level.\n",
      "                       *Significant at the 10 percent level.\n"
     ]
    }
   ],
   "source": [
    "normreg.sh=glm(inc~factor(state)+ic+gsp*ps*sh,data = dta.us.p,weights=dta.us.p$pop)\n",
    "permreg.sh=glm(inc~factor(state)+ic+gsp.perm*ps*sh,data = dta.us.p,weights=dta.us.p$pop)\n",
    "tranreg.sh=glm(inc~factor(state)+ic+gsp.tran*ps*sh,data = dta.us.p,weights=dta.us.p$pop)\n",
    "totus=coeftest(normreg.sh,vcovCL,cluster=dta.us.p[,c('state','year')])\n",
    "perus=coeftest(permreg.sh,vcovCL,cluster=dta.us.p[,c('state','year')])\n",
    "traus=coeftest(tranreg.sh,vcovCL,cluster=dta.us.p[,c('state','year')])\n",
    "rownames(perus)=rownames(totus)\n",
    "rownames(traus)=rownames(totus)\n",
    "stargazer(totus,perus,traus,type=output,title = 'WLS: Personal Income = state fixed effects + incidence + GDP component * stay at home requirements * policy support',style = 'qje',omit = 'factor',omit.labels = ' State fixed effects',column.labels = c('total','permanent','transitory'))"
   ]
  },
  {
   "cell_type": "markdown",
   "metadata": {},
   "source": [
    "## End of empirical part - Beginning of theoretical part"
   ]
  },
  {
   "cell_type": "code",
   "execution_count": 36,
   "metadata": {},
   "outputs": [],
   "source": [
    "rm(list=ls())\n",
    "options(warn=-1)"
   ]
  },
  {
   "cell_type": "markdown",
   "metadata": {},
   "source": [
    "### Figure 2: Illustration of the implications of different degrees of risk sharing under various circumstances"
   ]
  },
  {
   "cell_type": "code",
   "execution_count": 37,
   "metadata": {},
   "outputs": [
    {
     "data": {
      "image/png": "[encoded data removed]",
      "text/plain": [
       "plot without title"
      ]
     },
     "metadata": {
      "image/png": {
       "height": 420,
       "width": 420
      },
      "text/plain": {
       "height": 420,
       "width": 420
      }
     },
     "output_type": "display_data"
    }
   ],
   "source": [
    "util<-function(x){\n",
    "  return(log(x))\n",
    "}\n",
    "\n",
    "consumption<-seq(1,400,0.1)\n",
    "utility<-sapply(consumption,util)\n",
    "plot(consumption,utility,type = 'l',xlim = c(35,75),ylim = c(3.8,4.2))\n",
    "abline(v=55,col='orange')\n",
    "abline(v=65,col='blue')\n",
    "abline(h=util(55),col='orange',lty='dashed')\n",
    "abline(h=util(65),col='blue',lty='dashed')\n",
    "lines(c(50,60),util(c(50,60)),type = 'p',col='red',lwd=6)\n",
    "lines(c(40,60),c(util(50),util(50)))\n",
    "lines(c(50,70),c(util(60),util(60)))\n",
    "lines(c(70,70),c(util(60)-0.02,util(60)+0.02))\n",
    "lines(c(50,50),c(util(60)-0.02,util(60)+0.02))\n",
    "lines(c(40,40),c(util(50)-0.02,util(50)+0.02))\n",
    "lines(c(60,60),c(util(50)-0.02,util(50)+0.02))\n",
    "\n",
    "lines(c(48,58),util(c(48,58)),type = 'p',col='green',lwd=6)\n",
    "lines(c(42,54),c(util(48),util(48)))\n",
    "lines(c(52,64),c(util(58),util(58)))\n",
    "lines(c(64,64),c(util(58)-0.02,util(58)+0.02))\n",
    "lines(c(52,52),c(util(58)-0.02,util(58)+0.02))\n",
    "lines(c(42,42),c(util(48)-0.02,util(48)+0.02))\n",
    "lines(c(54,54),c(util(48)-0.02,util(48)+0.02))\n",
    "\n",
    "lines(c(58,60),log(c(58,60)),type = 'p',lwd=2)"
   ]
  },
  {
   "cell_type": "markdown",
   "metadata": {},
   "source": [
    "### Figure 3: Expected utility implied by different degrees of risk sharing"
   ]
  },
  {
   "cell_type": "code",
   "execution_count": 38,
   "metadata": {},
   "outputs": [],
   "source": [
    "###########################################################################################################################################\n",
    "###################### discrete choice problem for risk sharing in presence of consumption cap and transfer ###############################\n",
    "###########################################################################################################################################\n",
    "\n",
    "# utility function\n",
    "\n",
    "util<-function(c,mc=999){\n",
    "  log(min(c,mc))\n",
    "}\n",
    "\n",
    "scenario<-function(mc=999,ps=0,p=0.5)\n",
    "{\n",
    "# set seed and # simulated incomes\n",
    "\n",
    "set.seed(123)\n",
    "g=10000\n",
    "\n",
    "# set exogeneous variables\n",
    "\n",
    "mc=mc#40            # consumption restrictive measures - lower = stricter \n",
    "ps=ps#15            # transfer compensation for covid related losses\n",
    "\n",
    "ep=35               # mean / expected production\n",
    "sd=8                # standard deviation of production\n",
    "\n",
    "cf=2                # standard deviation of common factor\n",
    "\n",
    "p=p                 # price of full risk sharing compared to autarky (linear)\n",
    "\n",
    "# simulate income for A and B (two ex ante identical countries)\n",
    "\n",
    "com<-rnorm(g,0,cf)\n",
    "\n",
    "y_a<-rnorm(g,ep,sd)+com\n",
    "sd(y_a)\n",
    "\n",
    "y_b<-rnorm(g,ep,sd)+com\n",
    "sd(y_b)\n",
    "\n",
    "y_s<-(y_a+y_b)/2\n",
    "sd(y_s)\n",
    "\n",
    "# grid for possible degrees of risk sharing (0 no risk sharing at all 1 full risk sharing)\n",
    "\n",
    "k<-seq(0,1,0.01)\n",
    "\n",
    "# simulation of resulting utility for different degrees of risk sharing - small economies (-> price takers) \n",
    "# assuming that a priori countries take each realisation of income as equally likely we can simulate expectations by taking means across realizations\n",
    "\n",
    "UA=matrix(nrow = g,ncol = 101)\n",
    "for (i in 1:g) {\n",
    " ua<-sapply(k*y_s[i]+(1-k)*y_a[i]+ps-k*p, util,mc=mc) \n",
    " UA[i,]=ua\n",
    "}\n",
    "res_a=colMeans(UA)\n",
    "plot(res_a,type='l',ylab = 'exp. utility',xlab = '% of shared risk')\n",
    "\n",
    "UB=matrix(nrow = g,ncol = 101)\n",
    "for (i in 1:g) {\n",
    "  ub<-sapply(k*y_s[i]+(1-k)*y_b[i]+ps-k*p, util,mc=mc) \n",
    "  UB[i,]=ub\n",
    "}\n",
    "res_b=colMeans(UB)\n",
    "plot(res_b,ylab = 'exp. utility',xlab = '% of shared risk')\n",
    "}"
   ]
  },
  {
   "cell_type": "code",
   "execution_count": 39,
   "metadata": {},
   "outputs": [
    {
     "data": {
      "image/png": "[encoded data removed]",
      "text/plain": [
       "plot without title"
      ]
     },
     "metadata": {
      "image/png": {
       "height": 420,
       "width": 420
      },
      "text/plain": {
       "height": 420,
       "width": 420
      }
     },
     "output_type": "display_data"
    },
    {
     "data": {
      "image/png": "[encoded data removed]",
      "text/plain": [
       "plot without title"
      ]
     },
     "metadata": {
      "image/png": {
       "height": 420,
       "width": 420
      },
      "text/plain": {
       "height": 420,
       "width": 420
      }
     },
     "output_type": "display_data"
    }
   ],
   "source": [
    "# basecase\n",
    "scenario()"
   ]
  },
  {
   "cell_type": "code",
   "execution_count": 40,
   "metadata": {},
   "outputs": [
    {
     "data": {
      "image/png": "[encoded data removed]",
      "text/plain": [
       "plot without title"
      ]
     },
     "metadata": {
      "image/png": {
       "height": 420,
       "width": 420
      },
      "text/plain": {
       "height": 420,
       "width": 420
      }
     },
     "output_type": "display_data"
    },
    {
     "data": {
      "image/png": "[encoded data removed]",
      "text/plain": [
       "plot without title"
      ]
     },
     "metadata": {
      "image/png": {
       "height": 420,
       "width": 420
      },
      "text/plain": {
       "height": 420,
       "width": 420
      }
     },
     "output_type": "display_data"
    }
   ],
   "source": [
    "# restrictive measures\n",
    "scenario(mc=40)"
   ]
  },
  {
   "cell_type": "code",
   "execution_count": 41,
   "metadata": {},
   "outputs": [
    {
     "data": {
      "image/png": "[encoded data removed]",
      "text/plain": [
       "plot without title"
      ]
     },
     "metadata": {
      "image/png": {
       "height": 420,
       "width": 420
      },
      "text/plain": {
       "height": 420,
       "width": 420
      }
     },
     "output_type": "display_data"
    },
    {
     "data": {
      "image/png": "[encoded data removed]",
      "text/plain": [
       "plot without title"
      ]
     },
     "metadata": {
      "image/png": {
       "height": 420,
       "width": 420
      },
      "text/plain": {
       "height": 420,
       "width": 420
      }
     },
     "output_type": "display_data"
    }
   ],
   "source": [
    "# policy support\n",
    "scenario(ps=10)"
   ]
  },
  {
   "cell_type": "code",
   "execution_count": 42,
   "metadata": {},
   "outputs": [
    {
     "data": {
      "image/png": "[encoded data removed]",
      "text/plain": [
       "plot without title"
      ]
     },
     "metadata": {
      "image/png": {
       "height": 420,
       "width": 420
      },
      "text/plain": {
       "height": 420,
       "width": 420
      }
     },
     "output_type": "display_data"
    },
    {
     "data": {
      "image/png": "[encoded data removed]",
      "text/plain": [
       "plot without title"
      ]
     },
     "metadata": {
      "image/png": {
       "height": 420,
       "width": 420
      },
      "text/plain": {
       "height": 420,
       "width": 420
      }
     },
     "output_type": "display_data"
    }
   ],
   "source": [
    "# interaction of policy support and restrictive measures\n",
    "scenario(ps=10,mc=40)"
   ]
  }
 ],
 "metadata": {
  "kernelspec": {
   "display_name": "R",
   "language": "R",
   "name": "ir"
  },
  "language_info": {
   "codemirror_mode": "r",
   "file_extension": ".r",
   "mimetype": "text/x-r-source",
   "name": "R",
   "pygments_lexer": "r",
   "version": "3.6.1"
  },
  "toc": {
   "base_numbering": 1,
   "nav_menu": {},
   "number_sections": false,
   "sideBar": true,
   "skip_h1_title": false,
   "title_cell": "Table of Contents",
   "title_sidebar": "Contents",
   "toc_cell": false,
   "toc_position": {},
   "toc_section_display": true,
   "toc_window_display": false
  }
 },
 "nbformat": 4,
 "nbformat_minor": 4
}
